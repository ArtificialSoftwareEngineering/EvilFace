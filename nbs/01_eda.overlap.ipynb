{
 "cells": [
  {
   "cell_type": "code",
   "execution_count": null,
   "metadata": {},
   "outputs": [],
   "source": [
    "# default_exp eda.overlap"
   ]
  },
  {
   "cell_type": "markdown",
   "metadata": {},
   "source": [
    "# EDA Overlap\n",
    "\n",
    "> API details."
   ]
  },
  {
   "cell_type": "code",
   "execution_count": 1,
   "metadata": {},
   "outputs": [],
   "source": [
    "import gdown\n",
    "import math\n",
    "\n",
    "import numpy as np\n",
    "import pandas as pd\n",
    "\n",
    "from joblib import Parallel, delayed\n",
    "from pathlib import Path\n",
    "from tqdm.auto import tqdm"
   ]
  },
  {
   "cell_type": "code",
   "execution_count": 2,
   "metadata": {},
   "outputs": [],
   "source": [
    "#hide\n",
    "from nbdev.showdoc import *"
   ]
  },
  {
   "cell_type": "code",
   "execution_count": 2,
   "metadata": {},
   "outputs": [
    {
     "name": "stdout",
     "output_type": "stream",
     "text": [
      "File exists: /home/jovyan/data/t5-data.zip\n"
     ]
    },
    {
     "data": {
      "text/plain": [
       "'/home/jovyan/data/t5-data.zip'"
      ]
     },
     "execution_count": 2,
     "metadata": {},
     "output_type": "execute_result"
    }
   ],
   "source": [
    "# download using gdown T5 extension dataset\n",
    "data_dir = Path(\"/home/jovyan/data\")\n",
    "output_dir = data_dir / \"t5-data.zip\"\n",
    "url = \"https://drive.google.com/uc?id=1zKW5bOMjKHfX75d_uz8OF2teTb5Dse_M\"\n",
    "gdown.cached_download(url, str(output_dir), postprocess=gdown.extractall)"
   ]
  },
  {
   "cell_type": "code",
   "execution_count": 3,
   "metadata": {},
   "outputs": [
    {
     "name": "stdout",
     "output_type": "stream",
     "text": [
      "File exists: /home/jovyan/data/t5-data-performance.zip\n"
     ]
    },
    {
     "data": {
      "text/plain": [
       "'/home/jovyan/data/t5-data-performance.zip'"
      ]
     },
     "execution_count": 3,
     "metadata": {},
     "output_type": "execute_result"
    }
   ],
   "source": [
    "# download using gdown T5 extension test data with model performance\n",
    "output_dir = data_dir / \"t5-data-performance.zip\"\n",
    "url = \"https://drive.google.com/uc?id=1EFPcdIpl-uez4e0918Yk4hQrLRyGczxf\"\n",
    "gdown.cached_download(url, str(output_dir), postprocess=gdown.extractall)"
   ]
  },
  {
   "cell_type": "code",
   "execution_count": 4,
   "metadata": {},
   "outputs": [],
   "source": [
    "# This code was taken from https://gist.github.com/kylebgorman/1081951/bce3de986e4b05fc0b63d4d9e0cfa4bde6664365\n",
    "def _dist(A, B, insertion, deletion, substitution):\n",
    "    D = np.zeros((len(A) + 1, len(B) + 1))\n",
    "    for i in range(len(A)):\n",
    "        D[i + 1][0] = D[i][0] + deletion\n",
    "    for j in range(len(B)):\n",
    "        D[0][j + 1] = D[0][j] + insertion\n",
    "    for i in range(len(A)): # fill out middle of matrix\n",
    "        for j in range(len(B)):\n",
    "            if A[i] == B[j]:\n",
    "                D[i + 1][j + 1] = D[i][j] # aka, it's free.\n",
    "            else:\n",
    "                D[i + 1][j + 1] = min(D[i + 1][j] + insertion,\n",
    "                                      D[i][j + 1] + deletion,\n",
    "                                      D[i][j]     + substitution)\n",
    "    return D\n",
    "\n",
    "def levenshtein_distance(l1, l2, normalize=False):\n",
    "    dist = _dist(l1, l2, 1, 1, 1)[-1][-1]\n",
    "    if normalize:\n",
    "        return 1. - dist / max(len(l1), len(l2))\n",
    "    else:\n",
    "        return dist"
   ]
  },
  {
   "cell_type": "code",
   "execution_count": 5,
   "metadata": {},
   "outputs": [],
   "source": [
    "# export\n",
    "# From: https://github.com/veekaybee/data/blob/master/samplesize.py\n",
    "# SUPPORTED CONFIDENCE LEVELS: 50%, 68%, 90%, 95%, and 99%\n",
    "confidence_level_constant = [50,.67], [68,.99], [90,1.64], [95,1.96], [99,2.57]\n",
    " \n",
    "# CALCULATE THE SAMPLE SIZE\n",
    "def sample_size(population_size, confidence_level, confidence_interval):\n",
    "  Z = 0.0\n",
    "  p = 0.5\n",
    "  e = confidence_interval/100.0\n",
    "  N = population_size\n",
    "  n_0 = 0.0\n",
    "  n = 0.0\n",
    " \n",
    "  # LOOP THROUGH SUPPORTED CONFIDENCE LEVELS AND FIND THE NUM STD\n",
    "  # DEVIATIONS FOR THAT CONFIDENCE LEVEL\n",
    "  for i in confidence_level_constant:\n",
    "    if i[0] == confidence_level:\n",
    "      Z = i[1]\n",
    " \n",
    "  if Z == 0.0:\n",
    "    return -1\n",
    " \n",
    "  # CALC SAMPLE SIZE\n",
    "  n_0 = ((Z**2) * p * (1-p)) / (e**2)\n",
    " \n",
    "  # ADJUST SAMPLE SIZE FOR FINITE POPULATION\n",
    "  n = n_0 / (1 + ((n_0 - 1) / float(N)) )\n",
    " \n",
    "  return int(math.ceil(n)) # THE SAMPLE SIZE"
   ]
  },
  {
   "cell_type": "code",
   "execution_count": 6,
   "metadata": {},
   "outputs": [],
   "source": [
    "class Dataset:\n",
    "    def __init__(self, trn_path, tst_path) -> None:\n",
    "        self.trn_path = trn_path\n",
    "        self.tst_path = tst_path\n",
    "        \n",
    "        self.trn_df = pd.read_csv(self.trn_path, names=[\"input\", \"target\"], sep=\"\\t\")\n",
    "        self.tst_df = pd.read_csv(self.tst_path)\n",
    "    \n",
    "    def compute_overlap(self, parallelize=True, sample=True):\n",
    "        if sample:\n",
    "            size = sample_size(len(self.trn_df), confidence_level=95., confidence_interval=5.)\n",
    "            print(f\"Sample size: {size}\")\n",
    "            self.trn_df = self.trn_df.sample(size)\n",
    "\n",
    "        if not parallelize:\n",
    "            self.all_dists = []\n",
    "            for tst_trgt in tqdm(self.tst_df.Groundtruth.values):\n",
    "                dists = []\n",
    "                for trn_trgt in self.trn_df.target.values:\n",
    "                    dists.append(levenshtein_distance(tst_trgt, trn_trgt))\n",
    "                self.all_dists.append(dists)\n",
    "        else:\n",
    "            self.all_dists = Parallel(n_jobs=96)(\n",
    "                delayed(levenshtein_distance)(tst_trgt, trn_trgt)\n",
    "                for tst_trgt in tqdm(self.tst_df.Groundtruth.values)\n",
    "                for trn_trgt in self.trn_df.target.values\n",
    "            )\n",
    "            self.all_dists = np.array(self.all_dists)\n",
    "            self.all_dists = self.all_dists.reshape((len(self.tst_df), len(self.trn_df)))\n",
    "\n",
    "        self.min_dists = np.min(self.all_dists, axis=1)\n",
    "        self.median_dists = np.median(self.all_dists, axis=1)\n",
    "        self.max_dists = np.max(self.all_dists, axis=1)\n",
    "\n",
    "        score_column = self.tst_df.columns[-1]\n",
    "        df = pd.DataFrame({\n",
    "            # \"dists\": self.all_dists,\n",
    "            \"min_dist\": self.min_dists,\n",
    "            \"median_dist\": self.median_dists,\n",
    "            \"max_dist\": self.max_dists,\n",
    "            \"score\": self.tst_df[score_column].values\n",
    "        })\n",
    "        return df"
   ]
  },
  {
   "cell_type": "code",
   "execution_count": 7,
   "metadata": {},
   "outputs": [
    {
     "name": "stdout",
     "output_type": "stream",
     "text": [
      "AGraw\n",
      "Sample size: 384\n"
     ]
    },
    {
     "data": {
      "application/vnd.jupyter.widget-view+json": {
       "model_id": "81ce368a45124cf8ae9ed71979a8421a",
       "version_major": 2,
       "version_minor": 0
      },
      "text/plain": [
       "  0%|          | 0/18815 [00:00<?, ?it/s]"
      ]
     },
     "metadata": {},
     "output_type": "display_data"
    },
    {
     "name": "stdout",
     "output_type": "stream",
     "text": [
      "AGabs\n",
      "Sample size: 383\n"
     ]
    },
    {
     "data": {
      "application/vnd.jupyter.widget-view+json": {
       "model_id": "3a1e56183b444a7a91d72ac85824d049",
       "version_major": 2,
       "version_minor": 0
      },
      "text/plain": [
       "  0%|          | 0/15810 [00:00<?, ?it/s]"
      ]
     },
     "metadata": {},
     "output_type": "display_data"
    },
    {
     "name": "stdout",
     "output_type": "stream",
     "text": [
      "BFsmall\n",
      "Sample size: 382\n"
     ]
    },
    {
     "data": {
      "application/vnd.jupyter.widget-view+json": {
       "model_id": "8b2d36c9b1054bc48d7e889664b8d1aa",
       "version_major": 2,
       "version_minor": 0
      },
      "text/plain": [
       "  0%|          | 0/5835 [00:00<?, ?it/s]"
      ]
     },
     "metadata": {},
     "output_type": "display_data"
    },
    {
     "name": "stdout",
     "output_type": "stream",
     "text": [
      "MG\n",
      "Sample size: 383\n"
     ]
    },
    {
     "data": {
      "application/vnd.jupyter.widget-view+json": {
       "model_id": "37e013955cad49b88453411c173a9c64",
       "version_major": 2,
       "version_minor": 0
      },
      "text/plain": [
       "  0%|          | 0/11559 [00:00<?, ?it/s]"
      ]
     },
     "metadata": {},
     "output_type": "display_data"
    },
    {
     "name": "stdout",
     "output_type": "stream",
     "text": [
      "CS\n",
      "Sample size: 385\n"
     ]
    },
    {
     "data": {
      "application/vnd.jupyter.widget-view+json": {
       "model_id": "ddc1d1d1963d41c18578233f3386d991",
       "version_major": 2,
       "version_minor": 0
      },
      "text/plain": [
       "  0%|          | 0/90908 [00:00<?, ?it/s]"
      ]
     },
     "metadata": {},
     "output_type": "display_data"
    },
    {
     "name": "stdout",
     "output_type": "stream",
     "text": [
      "BFmedium\n",
      "Sample size: 382\n"
     ]
    },
    {
     "data": {
      "application/vnd.jupyter.widget-view+json": {
       "model_id": "4a70e5dc286149e88667403979e96f7e",
       "version_major": 2,
       "version_minor": 0
      },
      "text/plain": [
       "  0%|          | 0/6545 [00:00<?, ?it/s]"
      ]
     },
     "metadata": {},
     "output_type": "display_data"
    }
   ],
   "source": [
    "finetune_ds_dir = data_dir / \"datasets/tsv/fine-tuning\"\n",
    "performance_ds_dir = data_dir / \"DataSnooping_Analysis_Data\"\n",
    "\n",
    "dfs = []\n",
    "for dir in finetune_ds_dir.glob(\"*\"):\n",
    "    dataset_name = dir.name\n",
    "    print(dataset_name)\n",
    "    trn_path = finetune_ds_dir / f\"{dataset_name}/training.tsv\"\n",
    "    if dataset_name == \"MG\":\n",
    "        dataset_name = \"Mutants\"\n",
    "    elif dataset_name == \"CS\":\n",
    "        dataset_name = \"CodeSummarization\"\n",
    "    tst_path = performance_ds_dir / f\"{dataset_name}.csv\"\n",
    "\n",
    "    df = Dataset(trn_path, tst_path).compute_overlap(parallelize=True, sample=True)\n",
    "    df[\"dataset_name\"] = dataset_name\n",
    "    dfs.append(df)\n",
    "\n",
    "df = pd.concat(dfs)\n",
    "df.to_csv(data_dir / \"t5-data-performance-overlap.csv\", index=False)"
   ]
  },
  {
   "cell_type": "code",
   "execution_count": 64,
   "metadata": {},
   "outputs": [
    {
     "name": "stdout",
     "output_type": "stream",
     "text": [
      "AGraw\n"
     ]
    },
    {
     "data": {
      "application/vnd.jupyter.widget-view+json": {
       "model_id": "b622f1d6215b495380bd5b6879eb7e26",
       "version_major": 2,
       "version_minor": 0
      },
      "text/plain": [
       "  0%|          | 0/100 [00:00<?, ?it/s]"
      ]
     },
     "metadata": {},
     "output_type": "display_data"
    },
    {
     "name": "stdout",
     "output_type": "stream",
     "text": [
      "AGabs\n"
     ]
    },
    {
     "data": {
      "application/vnd.jupyter.widget-view+json": {
       "model_id": "7e4b58665cf244f6b7dc449da1ff6255",
       "version_major": 2,
       "version_minor": 0
      },
      "text/plain": [
       "  0%|          | 0/100 [00:00<?, ?it/s]"
      ]
     },
     "metadata": {},
     "output_type": "display_data"
    },
    {
     "name": "stdout",
     "output_type": "stream",
     "text": [
      "BFsmall\n"
     ]
    },
    {
     "data": {
      "application/vnd.jupyter.widget-view+json": {
       "model_id": "302b3fcbdb3f4164996b97117aa5c09c",
       "version_major": 2,
       "version_minor": 0
      },
      "text/plain": [
       "  0%|          | 0/100 [00:00<?, ?it/s]"
      ]
     },
     "metadata": {},
     "output_type": "display_data"
    },
    {
     "name": "stdout",
     "output_type": "stream",
     "text": [
      "MG\n"
     ]
    },
    {
     "data": {
      "application/vnd.jupyter.widget-view+json": {
       "model_id": "c878f48dff214e10ac072f6d9a7511df",
       "version_major": 2,
       "version_minor": 0
      },
      "text/plain": [
       "  0%|          | 0/100 [00:00<?, ?it/s]"
      ]
     },
     "metadata": {},
     "output_type": "display_data"
    },
    {
     "name": "stdout",
     "output_type": "stream",
     "text": [
      "CS\n"
     ]
    },
    {
     "data": {
      "application/vnd.jupyter.widget-view+json": {
       "model_id": "b6b95df5dedc4f659da3e9c8edb0215b",
       "version_major": 2,
       "version_minor": 0
      },
      "text/plain": [
       "  0%|          | 0/100 [00:00<?, ?it/s]"
      ]
     },
     "metadata": {},
     "output_type": "display_data"
    },
    {
     "name": "stdout",
     "output_type": "stream",
     "text": [
      "BFmedium\n"
     ]
    },
    {
     "data": {
      "application/vnd.jupyter.widget-view+json": {
       "model_id": "1bdaf8be28ec481dac9d910199897e47",
       "version_major": 2,
       "version_minor": 0
      },
      "text/plain": [
       "  0%|          | 0/100 [00:00<?, ?it/s]"
      ]
     },
     "metadata": {},
     "output_type": "display_data"
    },
    {
     "name": "stdout",
     "output_type": "stream",
     "text": [
      "CPU times: user 23.5 s, sys: 1.73 s, total: 25.2 s\n",
      "Wall time: 14min 6s\n"
     ]
    }
   ],
   "source": [
    "%%time\n",
    "finetune_ds_dir = data_dir / \"datasets/tsv/fine-tuning\"\n",
    "performance_ds_dir = data_dir / \"DataSnooping_Analysis_Data\"\n",
    "sample_size=100\n",
    "\n",
    "dfs = []\n",
    "for dir in finetune_ds_dir.glob(\"*\"):\n",
    "    dataset_name = dir.name\n",
    "    print(dataset_name)\n",
    "    trn_path = finetune_ds_dir / f\"{dataset_name}/training.tsv\"\n",
    "    if dataset_name == \"MG\":\n",
    "        dataset_name = \"Mutants\"\n",
    "    elif dataset_name == \"CS\":\n",
    "        dataset_name = \"CodeSummarization\"\n",
    "    tst_path = performance_ds_dir / f\"{dataset_name}.csv\"\n",
    "\n",
    "    df = Dataset(trn_path, tst_path).compute_overlap(parallelize=True, sample_size=sample_size)\n",
    "    df[\"dataset_name\"] = dataset_name\n",
    "    dfs.append(df)\n",
    "\n",
    "df = pd.concat(dfs)"
   ]
  },
  {
   "cell_type": "code",
   "execution_count": 65,
   "metadata": {},
   "outputs": [
    {
     "name": "stdout",
     "output_type": "stream",
     "text": [
      "AGraw\n"
     ]
    },
    {
     "data": {
      "application/vnd.jupyter.widget-view+json": {
       "model_id": "401167a62d20486ab5d9f076f8d6ab9a",
       "version_major": 2,
       "version_minor": 0
      },
      "text/plain": [
       "  0%|          | 0/100 [00:00<?, ?it/s]"
      ]
     },
     "metadata": {},
     "output_type": "display_data"
    },
    {
     "name": "stdout",
     "output_type": "stream",
     "text": [
      "AGabs\n"
     ]
    },
    {
     "data": {
      "application/vnd.jupyter.widget-view+json": {
       "model_id": "9c926721530f4421bbb49b0445bdbe9a",
       "version_major": 2,
       "version_minor": 0
      },
      "text/plain": [
       "  0%|          | 0/100 [00:00<?, ?it/s]"
      ]
     },
     "metadata": {},
     "output_type": "display_data"
    },
    {
     "name": "stdout",
     "output_type": "stream",
     "text": [
      "BFsmall\n"
     ]
    },
    {
     "data": {
      "application/vnd.jupyter.widget-view+json": {
       "model_id": "1faf01938ba54f59917a1dfe2d4fb0cf",
       "version_major": 2,
       "version_minor": 0
      },
      "text/plain": [
       "  0%|          | 0/100 [00:00<?, ?it/s]"
      ]
     },
     "metadata": {},
     "output_type": "display_data"
    },
    {
     "name": "stdout",
     "output_type": "stream",
     "text": [
      "MG\n"
     ]
    },
    {
     "data": {
      "application/vnd.jupyter.widget-view+json": {
       "model_id": "31abfe3e7d5541b5ae66f1e21647623e",
       "version_major": 2,
       "version_minor": 0
      },
      "text/plain": [
       "  0%|          | 0/100 [00:00<?, ?it/s]"
      ]
     },
     "metadata": {},
     "output_type": "display_data"
    },
    {
     "name": "stdout",
     "output_type": "stream",
     "text": [
      "CS\n"
     ]
    },
    {
     "data": {
      "application/vnd.jupyter.widget-view+json": {
       "model_id": "a915fe214a294c60a2259234454d93f4",
       "version_major": 2,
       "version_minor": 0
      },
      "text/plain": [
       "  0%|          | 0/100 [00:00<?, ?it/s]"
      ]
     },
     "metadata": {},
     "output_type": "display_data"
    },
    {
     "name": "stdout",
     "output_type": "stream",
     "text": [
      "BFmedium\n"
     ]
    },
    {
     "data": {
      "application/vnd.jupyter.widget-view+json": {
       "model_id": "e83c3444e6254f708c7e11a010d2892b",
       "version_major": 2,
       "version_minor": 0
      },
      "text/plain": [
       "  0%|          | 0/100 [00:00<?, ?it/s]"
      ]
     },
     "metadata": {},
     "output_type": "display_data"
    },
    {
     "name": "stdout",
     "output_type": "stream",
     "text": [
      "CPU times: user 55min 3s, sys: 1.2 s, total: 55min 4s\n",
      "Wall time: 55min 4s\n"
     ]
    }
   ],
   "source": [
    "%%time\n",
    "finetune_ds_dir = data_dir / \"datasets/tsv/fine-tuning\"\n",
    "performance_ds_dir = data_dir / \"DataSnooping_Analysis_Data\"\n",
    "sample_size=100\n",
    "\n",
    "dfs = []\n",
    "for dir in finetune_ds_dir.glob(\"*\"):\n",
    "    dataset_name = dir.name\n",
    "    print(dataset_name)\n",
    "    trn_path = finetune_ds_dir / f\"{dataset_name}/training.tsv\"\n",
    "    if dataset_name == \"MG\":\n",
    "        dataset_name = \"Mutants\"\n",
    "    elif dataset_name == \"CS\":\n",
    "        dataset_name = \"CodeSummarization\"\n",
    "    tst_path = performance_ds_dir / f\"{dataset_name}.csv\"\n",
    "\n",
    "    df = Dataset(trn_path, tst_path).compute_overlap(parallelize=False, sample_size=sample_size)\n",
    "    df[\"dataset_name\"] = dataset_name\n",
    "    dfs.append(df)\n",
    "\n",
    "df = pd.concat(dfs)"
   ]
  },
  {
   "cell_type": "code",
   "execution_count": 42,
   "metadata": {},
   "outputs": [
    {
     "data": {
      "text/html": [
       "<div>\n",
       "<style scoped>\n",
       "    .dataframe tbody tr th:only-of-type {\n",
       "        vertical-align: middle;\n",
       "    }\n",
       "\n",
       "    .dataframe tbody tr th {\n",
       "        vertical-align: top;\n",
       "    }\n",
       "\n",
       "    .dataframe thead th {\n",
       "        text-align: right;\n",
       "    }\n",
       "</style>\n",
       "<table border=\"1\" class=\"dataframe\">\n",
       "  <thead>\n",
       "    <tr style=\"text-align: right;\">\n",
       "      <th></th>\n",
       "      <th>min_dist</th>\n",
       "      <th>median_dist</th>\n",
       "      <th>max_dist</th>\n",
       "      <th>score</th>\n",
       "      <th>dataset_name</th>\n",
       "    </tr>\n",
       "  </thead>\n",
       "  <tbody>\n",
       "    <tr>\n",
       "      <th>0</th>\n",
       "      <td>47.0</td>\n",
       "      <td>72.5</td>\n",
       "      <td>158.0</td>\n",
       "      <td>0.433893</td>\n",
       "      <td>Mutants</td>\n",
       "    </tr>\n",
       "    <tr>\n",
       "      <th>1</th>\n",
       "      <td>139.0</td>\n",
       "      <td>157.5</td>\n",
       "      <td>171.0</td>\n",
       "      <td>1.000000</td>\n",
       "      <td>Mutants</td>\n",
       "    </tr>\n",
       "    <tr>\n",
       "      <th>2</th>\n",
       "      <td>33.0</td>\n",
       "      <td>67.5</td>\n",
       "      <td>161.0</td>\n",
       "      <td>1.000000</td>\n",
       "      <td>Mutants</td>\n",
       "    </tr>\n",
       "    <tr>\n",
       "      <th>3</th>\n",
       "      <td>78.0</td>\n",
       "      <td>89.5</td>\n",
       "      <td>136.0</td>\n",
       "      <td>0.911597</td>\n",
       "      <td>Mutants</td>\n",
       "    </tr>\n",
       "    <tr>\n",
       "      <th>4</th>\n",
       "      <td>61.0</td>\n",
       "      <td>71.5</td>\n",
       "      <td>162.0</td>\n",
       "      <td>0.972414</td>\n",
       "      <td>Mutants</td>\n",
       "    </tr>\n",
       "  </tbody>\n",
       "</table>\n",
       "</div>"
      ],
      "text/plain": [
       "   min_dist  median_dist  max_dist     score dataset_name\n",
       "0      47.0         72.5     158.0  0.433893      Mutants\n",
       "1     139.0        157.5     171.0  1.000000      Mutants\n",
       "2      33.0         67.5     161.0  1.000000      Mutants\n",
       "3      78.0         89.5     136.0  0.911597      Mutants\n",
       "4      61.0         71.5     162.0  0.972414      Mutants"
      ]
     },
     "execution_count": 42,
     "metadata": {},
     "output_type": "execute_result"
    }
   ],
   "source": [
    "df[df[\"dataset_name\"]==\"Mutants\"].head()"
   ]
  },
  {
   "cell_type": "code",
   "execution_count": 36,
   "metadata": {},
   "outputs": [
    {
     "data": {
      "application/vnd.jupyter.widget-view+json": {
       "model_id": "d6f1be8d1d444deaafafd82dadc55650",
       "version_major": 2,
       "version_minor": 0
      },
      "text/plain": [
       "  0%|          | 0/10 [00:00<?, ?it/s]"
      ]
     },
     "metadata": {},
     "output_type": "display_data"
    },
    {
     "data": {
      "text/html": [
       "<div>\n",
       "<style scoped>\n",
       "    .dataframe tbody tr th:only-of-type {\n",
       "        vertical-align: middle;\n",
       "    }\n",
       "\n",
       "    .dataframe tbody tr th {\n",
       "        vertical-align: top;\n",
       "    }\n",
       "\n",
       "    .dataframe thead th {\n",
       "        text-align: right;\n",
       "    }\n",
       "</style>\n",
       "<table border=\"1\" class=\"dataframe\">\n",
       "  <thead>\n",
       "    <tr style=\"text-align: right;\">\n",
       "      <th></th>\n",
       "      <th>min_dist</th>\n",
       "      <th>median_dist</th>\n",
       "      <th>max_dist</th>\n",
       "      <th>score</th>\n",
       "    </tr>\n",
       "  </thead>\n",
       "  <tbody>\n",
       "    <tr>\n",
       "      <th>0</th>\n",
       "      <td>10.0</td>\n",
       "      <td>23.0</td>\n",
       "      <td>79.0</td>\n",
       "      <td>False</td>\n",
       "    </tr>\n",
       "    <tr>\n",
       "      <th>1</th>\n",
       "      <td>8.0</td>\n",
       "      <td>23.5</td>\n",
       "      <td>80.0</td>\n",
       "      <td>True</td>\n",
       "    </tr>\n",
       "    <tr>\n",
       "      <th>2</th>\n",
       "      <td>9.0</td>\n",
       "      <td>27.5</td>\n",
       "      <td>92.0</td>\n",
       "      <td>True</td>\n",
       "    </tr>\n",
       "    <tr>\n",
       "      <th>3</th>\n",
       "      <td>10.0</td>\n",
       "      <td>28.5</td>\n",
       "      <td>92.0</td>\n",
       "      <td>True</td>\n",
       "    </tr>\n",
       "    <tr>\n",
       "      <th>4</th>\n",
       "      <td>25.0</td>\n",
       "      <td>32.0</td>\n",
       "      <td>74.0</td>\n",
       "      <td>False</td>\n",
       "    </tr>\n",
       "    <tr>\n",
       "      <th>5</th>\n",
       "      <td>27.0</td>\n",
       "      <td>32.0</td>\n",
       "      <td>83.0</td>\n",
       "      <td>True</td>\n",
       "    </tr>\n",
       "    <tr>\n",
       "      <th>6</th>\n",
       "      <td>19.0</td>\n",
       "      <td>24.5</td>\n",
       "      <td>79.0</td>\n",
       "      <td>False</td>\n",
       "    </tr>\n",
       "    <tr>\n",
       "      <th>7</th>\n",
       "      <td>13.0</td>\n",
       "      <td>26.5</td>\n",
       "      <td>87.0</td>\n",
       "      <td>True</td>\n",
       "    </tr>\n",
       "    <tr>\n",
       "      <th>8</th>\n",
       "      <td>26.0</td>\n",
       "      <td>50.5</td>\n",
       "      <td>75.0</td>\n",
       "      <td>False</td>\n",
       "    </tr>\n",
       "    <tr>\n",
       "      <th>9</th>\n",
       "      <td>9.0</td>\n",
       "      <td>27.5</td>\n",
       "      <td>92.0</td>\n",
       "      <td>False</td>\n",
       "    </tr>\n",
       "  </tbody>\n",
       "</table>\n",
       "</div>"
      ],
      "text/plain": [
       "   min_dist  median_dist  max_dist  score\n",
       "0      10.0         23.0      79.0  False\n",
       "1       8.0         23.5      80.0   True\n",
       "2       9.0         27.5      92.0   True\n",
       "3      10.0         28.5      92.0   True\n",
       "4      25.0         32.0      74.0  False\n",
       "5      27.0         32.0      83.0   True\n",
       "6      19.0         24.5      79.0  False\n",
       "7      13.0         26.5      87.0   True\n",
       "8      26.0         50.5      75.0  False\n",
       "9       9.0         27.5      92.0  False"
      ]
     },
     "execution_count": 36,
     "metadata": {},
     "output_type": "execute_result"
    }
   ],
   "source": [
    "ds.compute_overlap(sample_size=10)"
   ]
  },
  {
   "cell_type": "code",
   "execution_count": null,
   "metadata": {},
   "outputs": [],
   "source": []
  }
 ],
 "metadata": {
  "interpreter": {
   "hash": "d4d1e4263499bec80672ea0156c357c1ee493ec2b1c70f0acce89fc37c4a6abe"
  },
  "kernelspec": {
   "display_name": "Python 3.8.6 64-bit ('base': conda)",
   "name": "python3"
  },
  "language_info": {
   "codemirror_mode": {
    "name": "ipython",
    "version": 3
   },
   "file_extension": ".py",
   "mimetype": "text/x-python",
   "name": "python",
   "nbconvert_exporter": "python",
   "pygments_lexer": "ipython3",
   "version": "3.8.6"
  }
 },
 "nbformat": 4,
 "nbformat_minor": 2
}
