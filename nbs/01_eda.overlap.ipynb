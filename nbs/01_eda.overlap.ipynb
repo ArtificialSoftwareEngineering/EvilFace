{
 "cells": [
  {
   "cell_type": "code",
   "execution_count": 1,
   "metadata": {},
   "outputs": [],
   "source": [
    "# default_exp eda.overlap"
   ]
  },
  {
   "cell_type": "markdown",
   "metadata": {},
   "source": [
    "# EDA Overlap\n",
    "\n",
    "> API details."
   ]
  },
  {
   "cell_type": "code",
   "execution_count": 1,
   "metadata": {},
   "outputs": [],
   "source": [
    "# export\n",
    "import gdown\n",
    "import math\n",
    "\n",
    "import numpy as np\n",
    "import pandas as pd\n",
    "import sentencepiece as spm\n",
    "\n",
    "from joblib import Parallel, delayed\n",
    "from pathlib import Path\n",
    "from scipy.stats import pointbiserialr\n",
    "from tqdm.auto import tqdm"
   ]
  },
  {
   "cell_type": "code",
   "execution_count": 2,
   "metadata": {},
   "outputs": [],
   "source": [
    "#hide\n",
    "from nbdev.showdoc import *"
   ]
  },
  {
   "cell_type": "code",
   "execution_count": 5,
   "metadata": {},
   "outputs": [],
   "source": [
    "data_dir = Path(\"/home/jovyan/data\")"
   ]
  },
  {
   "cell_type": "code",
   "execution_count": 4,
   "metadata": {},
   "outputs": [
    {
     "name": "stdout",
     "output_type": "stream",
     "text": [
      "File exists: /home/jovyan/data/t5-data.zip\n"
     ]
    },
    {
     "data": {
      "text/plain": [
       "'/home/jovyan/data/t5-data.zip'"
      ]
     },
     "execution_count": 4,
     "metadata": {},
     "output_type": "execute_result"
    }
   ],
   "source": [
    "# download using gdown T5 extension dataset\n",
    "output_dir = data_dir / \"t5-data.zip\"\n",
    "url = \"https://drive.google.com/uc?id=1zKW5bOMjKHfX75d_uz8OF2teTb5Dse_M\"\n",
    "gdown.cached_download(url, str(output_dir), postprocess=gdown.extractall)"
   ]
  },
  {
   "cell_type": "code",
   "execution_count": 5,
   "metadata": {},
   "outputs": [
    {
     "name": "stdout",
     "output_type": "stream",
     "text": [
      "File exists: /home/jovyan/data/t5-data-performance.zip\n"
     ]
    },
    {
     "data": {
      "text/plain": [
       "'/home/jovyan/data/t5-data-performance.zip'"
      ]
     },
     "execution_count": 5,
     "metadata": {},
     "output_type": "execute_result"
    }
   ],
   "source": [
    "# download using gdown T5 extension test data with model performance\n",
    "output_dir = data_dir / \"t5-data-performance.zip\"\n",
    "url = \"https://drive.google.com/uc?id=1EFPcdIpl-uez4e0918Yk4hQrLRyGczxf\"\n",
    "gdown.cached_download(url, str(output_dir), postprocess=gdown.extractall)"
   ]
  },
  {
   "cell_type": "code",
   "execution_count": 6,
   "metadata": {},
   "outputs": [
    {
     "name": "stderr",
     "output_type": "stream",
     "text": [
      "Cached Downloading: /home/jovyan/data/dl4se_vocab.model\n",
      "Downloading...\n",
      "From: https://drive.google.com/uc?id=1KBVkhFZ80i1PW80aZexFGvJjyEClelX1\n",
      "To: /home/jovyan/.cache/gdown/tmpw49gs055/dl\n",
      "100%|██████████| 795k/795k [00:00<00:00, 20.6MB/s]\n"
     ]
    }
   ],
   "source": [
    "# download using gdown the sentencepiece model\n",
    "output_path = data_dir / \"dl4se_vocab.model\"\n",
    "url = \"https://drive.google.com/uc?id=1KBVkhFZ80i1PW80aZexFGvJjyEClelX1\"\n",
    "gdown.cached_download(url, str(output_path))\n",
    "s = spm.SentencePieceProcessor(model_file=str(output_path))"
   ]
  },
  {
   "cell_type": "code",
   "execution_count": 7,
   "metadata": {},
   "outputs": [],
   "source": [
    "# export\n",
    "# This code was taken from https://gist.github.com/kylebgorman/1081951/bce3de986e4b05fc0b63d4d9e0cfa4bde6664365\n",
    "def _dist(A, B, insertion, deletion, substitution):\n",
    "    D = np.zeros((len(A) + 1, len(B) + 1))\n",
    "    for i in range(len(A)):\n",
    "        D[i + 1][0] = D[i][0] + deletion\n",
    "    for j in range(len(B)):\n",
    "        D[0][j + 1] = D[0][j] + insertion\n",
    "    for i in range(len(A)): # fill out middle of matrix\n",
    "        for j in range(len(B)):\n",
    "            if A[i] == B[j]:\n",
    "                D[i + 1][j + 1] = D[i][j] # aka, it's free.\n",
    "            else:\n",
    "                D[i + 1][j + 1] = min(D[i + 1][j] + insertion,\n",
    "                                      D[i][j + 1] + deletion,\n",
    "                                      D[i][j]     + substitution)\n",
    "    return D\n",
    "\n",
    "def levenshtein_distance(l1, l2, normalize=False):\n",
    "    dist = _dist(l1, l2, 1, 1, 1)[-1][-1]\n",
    "    if normalize:\n",
    "        return 1. - dist / max(len(l1), len(l2))\n",
    "    else:\n",
    "        return dist"
   ]
  },
  {
   "cell_type": "code",
   "execution_count": 8,
   "metadata": {},
   "outputs": [],
   "source": [
    "# export\n",
    "# From: https://github.com/veekaybee/data/blob/master/samplesize.py\n",
    "# SUPPORTED CONFIDENCE LEVELS: 50%, 68%, 90%, 95%, and 99%\n",
    "confidence_level_constant = [50,.67], [68,.99], [90,1.64], [95,1.96], [99,2.57]\n",
    " \n",
    "# CALCULATE THE SAMPLE SIZE\n",
    "def sample_size(population_size, confidence_level, confidence_interval):\n",
    "  Z = 0.0\n",
    "  p = 0.5\n",
    "  e = confidence_interval/100.0\n",
    "  N = population_size\n",
    "  n_0 = 0.0\n",
    "  n = 0.0\n",
    " \n",
    "  # LOOP THROUGH SUPPORTED CONFIDENCE LEVELS AND FIND THE NUM STD\n",
    "  # DEVIATIONS FOR THAT CONFIDENCE LEVEL\n",
    "  for i in confidence_level_constant:\n",
    "    if i[0] == confidence_level:\n",
    "      Z = i[1]\n",
    " \n",
    "  if Z == 0.0:\n",
    "    return -1\n",
    " \n",
    "  # CALC SAMPLE SIZE\n",
    "  n_0 = ((Z**2) * p * (1-p)) / (e**2)\n",
    " \n",
    "  # ADJUST SAMPLE SIZE FOR FINITE POPULATION\n",
    "  n = n_0 / (1 + ((n_0 - 1) / float(N)) )\n",
    " \n",
    "  return int(math.ceil(n)) # THE SAMPLE SIZE"
   ]
  },
  {
   "cell_type": "code",
   "execution_count": 9,
   "metadata": {},
   "outputs": [],
   "source": [
    "class Dataset:\n",
    "    def __init__(self, trn_path, tst_path, tokenize=False) -> None:\n",
    "        self.trn_path = trn_path\n",
    "        self.tst_path = tst_path\n",
    "        \n",
    "        self.trn_df = pd.read_csv(self.trn_path, names=[\"input\", \"target\"], sep=\"\\t\")\n",
    "        self.tst_df = pd.read_csv(self.tst_path)\n",
    "\n",
    "        if tokenize:\n",
    "            self.trn_df[\"input\"] = self.trn_df[\"input\"].apply(lambda x: s.encode(x))\n",
    "            self.trn_df[\"target\"] = self.trn_df[\"target\"].apply(lambda x: s.encode(x))\n",
    "            self.tst_df[\"Groundtruth\"] = self.tst_df[\"Groundtruth\"].apply(lambda x: s.encode(x))\n",
    "    \n",
    "    def compute_overlap(self, parallelize=True, sample=True):\n",
    "        if sample:\n",
    "            size = sample_size(len(self.trn_df), confidence_level=95., confidence_interval=5.)\n",
    "            print(f\"Sample size: {size}\")\n",
    "            self.trn_df = self.trn_df.sample(size)\n",
    "\n",
    "        if not parallelize:\n",
    "            self.all_dists = []\n",
    "            for tst_trgt in tqdm(self.tst_df.Groundtruth.values):\n",
    "                dists = []\n",
    "                for trn_trgt in self.trn_df.target.values:\n",
    "                    dists.append(levenshtein_distance(tst_trgt, trn_trgt))\n",
    "                self.all_dists.append(dists)\n",
    "        else:\n",
    "            self.all_dists = Parallel(n_jobs=96)(\n",
    "                delayed(levenshtein_distance)(tst_trgt, trn_trgt)\n",
    "                for tst_trgt in tqdm(self.tst_df.Groundtruth.values)\n",
    "                for trn_trgt in self.trn_df.target.values\n",
    "            )\n",
    "            self.all_dists = np.array(self.all_dists)\n",
    "            self.all_dists = self.all_dists.reshape((len(self.tst_df), len(self.trn_df)))\n",
    "\n",
    "        self.min_dists = np.min(self.all_dists, axis=1)\n",
    "        self.median_dists = np.median(self.all_dists, axis=1)\n",
    "        self.max_dists = np.max(self.all_dists, axis=1)\n",
    "\n",
    "        score_column = \"BLEU\" if \"BLEU\" in self.tst_df.columns else self.tst_df.columns[-1]\n",
    "        df = pd.DataFrame({\n",
    "            # \"dists\": self.all_dists,\n",
    "            \"min_dist\": self.min_dists,\n",
    "            \"median_dist\": self.median_dists,\n",
    "            \"max_dist\": self.max_dists,\n",
    "            \"score\": self.tst_df[score_column].values\n",
    "        })\n",
    "        return df"
   ]
  },
  {
   "cell_type": "code",
   "execution_count": null,
   "metadata": {},
   "outputs": [],
   "source": [
    "finetune_ds_dir = data_dir / \"datasets/tsv/fine-tuning\"\n",
    "performance_ds_dir = data_dir / \"DataSnooping_Analysis_Data\"\n",
    "\n",
    "dfs = []\n",
    "for dir in finetune_ds_dir.glob(\"*\"):\n",
    "    dataset_name = dir.name\n",
    "    print(dataset_name)\n",
    "    trn_path = finetune_ds_dir / f\"{dataset_name}/training.tsv\"\n",
    "    if dataset_name == \"MG\":\n",
    "        dataset_name = \"Mutants\"\n",
    "    elif dataset_name == \"CS\":\n",
    "        dataset_name = \"CodeSummarization\"\n",
    "    tst_path = performance_ds_dir / f\"{dataset_name}.csv\"\n",
    "\n",
    "    df = Dataset(trn_path, tst_path, tokenize=True).compute_overlap(parallelize=True, sample=True)\n",
    "    df[\"dataset_name\"] = dataset_name\n",
    "    dfs.append(df)\n",
    "\n",
    "df = pd.concat(dfs)\n",
    "df.to_csv(data_dir / \"t5-data-performance-overlap-tokenized.csv\", index=False)"
   ]
  },
  {
   "cell_type": "code",
   "execution_count": 6,
   "metadata": {},
   "outputs": [
    {
     "data": {
      "text/html": [
       "<div>\n",
       "<style scoped>\n",
       "    .dataframe tbody tr th:only-of-type {\n",
       "        vertical-align: middle;\n",
       "    }\n",
       "\n",
       "    .dataframe tbody tr th {\n",
       "        vertical-align: top;\n",
       "    }\n",
       "\n",
       "    .dataframe thead th {\n",
       "        text-align: right;\n",
       "    }\n",
       "</style>\n",
       "<table border=\"1\" class=\"dataframe\">\n",
       "  <thead>\n",
       "    <tr style=\"text-align: right;\">\n",
       "      <th></th>\n",
       "      <th>min_dist</th>\n",
       "      <th>median_dist</th>\n",
       "      <th>max_dist</th>\n",
       "      <th>score</th>\n",
       "    </tr>\n",
       "  </thead>\n",
       "  <tbody>\n",
       "    <tr>\n",
       "      <th>count</th>\n",
       "      <td>149472.000000</td>\n",
       "      <td>149472.000000</td>\n",
       "      <td>149472.000000</td>\n",
       "      <td>149472.000000</td>\n",
       "    </tr>\n",
       "    <tr>\n",
       "      <th>mean</th>\n",
       "      <td>12.522579</td>\n",
       "      <td>20.043938</td>\n",
       "      <td>69.082470</td>\n",
       "      <td>0.352362</td>\n",
       "    </tr>\n",
       "    <tr>\n",
       "      <th>std</th>\n",
       "      <td>16.287783</td>\n",
       "      <td>23.332242</td>\n",
       "      <td>77.632789</td>\n",
       "      <td>0.376669</td>\n",
       "    </tr>\n",
       "    <tr>\n",
       "      <th>min</th>\n",
       "      <td>0.000000</td>\n",
       "      <td>7.000000</td>\n",
       "      <td>14.000000</td>\n",
       "      <td>0.000000</td>\n",
       "    </tr>\n",
       "    <tr>\n",
       "      <th>25%</th>\n",
       "      <td>5.000000</td>\n",
       "      <td>8.000000</td>\n",
       "      <td>16.000000</td>\n",
       "      <td>0.000000</td>\n",
       "    </tr>\n",
       "    <tr>\n",
       "      <th>50%</th>\n",
       "      <td>8.000000</td>\n",
       "      <td>11.000000</td>\n",
       "      <td>17.000000</td>\n",
       "      <td>0.191312</td>\n",
       "    </tr>\n",
       "    <tr>\n",
       "      <th>75%</th>\n",
       "      <td>11.000000</td>\n",
       "      <td>18.000000</td>\n",
       "      <td>100.000000</td>\n",
       "      <td>0.672196</td>\n",
       "    </tr>\n",
       "    <tr>\n",
       "      <th>max</th>\n",
       "      <td>356.000000</td>\n",
       "      <td>375.000000</td>\n",
       "      <td>379.000000</td>\n",
       "      <td>1.000000</td>\n",
       "    </tr>\n",
       "  </tbody>\n",
       "</table>\n",
       "</div>"
      ],
      "text/plain": [
       "            min_dist    median_dist       max_dist          score\n",
       "count  149472.000000  149472.000000  149472.000000  149472.000000\n",
       "mean       12.522579      20.043938      69.082470       0.352362\n",
       "std        16.287783      23.332242      77.632789       0.376669\n",
       "min         0.000000       7.000000      14.000000       0.000000\n",
       "25%         5.000000       8.000000      16.000000       0.000000\n",
       "50%         8.000000      11.000000      17.000000       0.191312\n",
       "75%        11.000000      18.000000     100.000000       0.672196\n",
       "max       356.000000     375.000000     379.000000       1.000000"
      ]
     },
     "execution_count": 6,
     "metadata": {},
     "output_type": "execute_result"
    }
   ],
   "source": [
    "results_df = pd.read_csv(data_dir / \"t5-data-performance-overlap-tokenized.csv\")\n",
    "results_df.describe()"
   ]
  },
  {
   "cell_type": "code",
   "execution_count": 7,
   "metadata": {},
   "outputs": [
    {
     "data": {
      "text/plain": [
       "<AxesSubplot:>"
      ]
     },
     "execution_count": 7,
     "metadata": {},
     "output_type": "execute_result"
    },
    {
     "data": {
      "image/png": "[encoded data removed]",
      "text/plain": [
       "<Figure size 432x288 with 1 Axes>"
      ]
     },
     "metadata": {
      "needs_background": "light"
     },
     "output_type": "display_data"
    }
   ],
   "source": [
    "results_df.boxplot(column=[\"min_dist\", \"median_dist\", \"max_dist\"])"
   ]
  },
  {
   "cell_type": "code",
   "execution_count": 8,
   "metadata": {},
   "outputs": [
    {
     "data": {
      "text/plain": [
       "<AxesSubplot:>"
      ]
     },
     "execution_count": 8,
     "metadata": {},
     "output_type": "execute_result"
    },
    {
     "data": {
      "image/png": "[encoded data removed]",
      "text/plain": [
       "<Figure size 432x288 with 1 Axes>"
      ]
     },
     "metadata": {
      "needs_background": "light"
     },
     "output_type": "display_data"
    }
   ],
   "source": [
    "results_df.boxplot(column=[\"score\"])"
   ]
  },
  {
   "cell_type": "code",
   "execution_count": 9,
   "metadata": {},
   "outputs": [],
   "source": [
    "agraw_df = results_df[results_df.dataset_name == \"AGraw\"] # Binary score\n",
    "agab_df = results_df[results_df.dataset_name == \"AGabs\"] # Binary score\n",
    "bfsm_df = results_df[results_df.dataset_name == \"BFsmall\"] # Binary score\n",
    "bfmd_df = results_df[results_df.dataset_name == \"BFmedium\"] # Binary score\n",
    "mut_df = results_df[results_df.dataset_name == \"Mutants\"] # Continuous score\n",
    "cs_df = results_df[results_df.dataset_name == \"CodeSummarization\"] # Continuous score"
   ]
  },
  {
   "cell_type": "code",
   "execution_count": 10,
   "metadata": {},
   "outputs": [],
   "source": [
    "# From: https://towardsdatascience.com/point-biserial-correlation-with-python-f7cd591bd3b1\n",
    "def point_biserial_correlation(df):\n",
    "    corrs = []\n",
    "    for col in df.columns:\n",
    "        if col != \"score\" and col != \"dataset_name\":\n",
    "            x = df[\"score\"].values\n",
    "            y = df[col].values\n",
    "            pbc = pointbiserialr(x, y)\n",
    "            corrs.append(pbc[0])\n",
    "   \n",
    "    return corrs\n",
    "\n",
    "def pearson_correlation(df):\n",
    "    return df[\"min_dist\"].corr(df[\"score\"]), df[\"median_dist\"].corr(df[\"score\"]), df[\"max_dist\"].corr(df[\"score\"])\n",
    "\n",
    "min_agraw_corr, median_agraw_corr, max_agraw_corr = point_biserial_correlation(agraw_df)\n",
    "min_agab_corr, median_agab_corr, max_agab_corr = point_biserial_correlation(agab_df)\n",
    "min_bfsm_corr, median_bfsm_corr, max_bfsm_corr = point_biserial_correlation(bfsm_df)\n",
    "min_bfmd_corr, median_bfmd_corr, max_bfmd_corr = point_biserial_correlation(bfmd_df)\n",
    "\n",
    "min_mut_corr, median_mut_corr, max_mut_corr = pearson_correlation(mut_df)\n",
    "min_cs_corr, median_cs_corr, max_cs_corr = pearson_correlation(cs_df)"
   ]
  },
  {
   "cell_type": "code",
   "execution_count": 11,
   "metadata": {},
   "outputs": [
    {
     "data": {
      "text/plain": [
       "(-0.20674085888896696, -0.1427712449484566, 0.18968473382085918)"
      ]
     },
     "execution_count": 11,
     "metadata": {},
     "output_type": "execute_result"
    }
   ],
   "source": [
    "min_agraw_corr, median_agraw_corr, max_agraw_corr"
   ]
  },
  {
   "cell_type": "code",
   "execution_count": 12,
   "metadata": {},
   "outputs": [
    {
     "data": {
      "text/plain": [
       "(-0.2107165676427643, -0.14033037696808537, 0.2898715146131562)"
      ]
     },
     "execution_count": 12,
     "metadata": {},
     "output_type": "execute_result"
    }
   ],
   "source": [
    "min_agab_corr, median_agab_corr, max_agab_corr"
   ]
  },
  {
   "cell_type": "code",
   "execution_count": 13,
   "metadata": {},
   "outputs": [
    {
     "data": {
      "text/plain": [
       "(-0.15341748700606433, -0.027188165617204586, 0.040650383273108916)"
      ]
     },
     "execution_count": 13,
     "metadata": {},
     "output_type": "execute_result"
    }
   ],
   "source": [
    "min_bfsm_corr, median_bfsm_corr, max_bfsm_corr"
   ]
  },
  {
   "cell_type": "code",
   "execution_count": 14,
   "metadata": {},
   "outputs": [
    {
     "data": {
      "text/plain": [
       "(-0.051578160652689185, -0.034035855192990155, 0.0077225817220179325)"
      ]
     },
     "execution_count": 14,
     "metadata": {},
     "output_type": "execute_result"
    }
   ],
   "source": [
    "min_bfmd_corr, median_bfmd_corr, max_bfmd_corr"
   ]
  },
  {
   "cell_type": "code",
   "execution_count": 15,
   "metadata": {},
   "outputs": [
    {
     "data": {
      "text/plain": [
       "(0.21472643961252413, 0.03262531616632887, -0.23030540151921175)"
      ]
     },
     "execution_count": 15,
     "metadata": {},
     "output_type": "execute_result"
    }
   ],
   "source": [
    "min_mut_corr, median_mut_corr, max_mut_corr"
   ]
  },
  {
   "cell_type": "code",
   "execution_count": 16,
   "metadata": {},
   "outputs": [
    {
     "data": {
      "text/plain": [
       "(-0.3796719614884238, -0.17354119554767558, -0.09338792745925713)"
      ]
     },
     "execution_count": 16,
     "metadata": {},
     "output_type": "execute_result"
    }
   ],
   "source": [
    "min_cs_corr, median_cs_corr, max_cs_corr"
   ]
  },
  {
   "cell_type": "code",
   "execution_count": 7,
   "metadata": {},
   "outputs": [
    {
     "name": "stdout",
     "output_type": "stream",
     "text": [
      "AGraw\n",
      "Sample size: 384\n"
     ]
    },
    {
     "data": {
      "application/vnd.jupyter.widget-view+json": {
       "model_id": "81ce368a45124cf8ae9ed71979a8421a",
       "version_major": 2,
       "version_minor": 0
      },
      "text/plain": [
       "  0%|          | 0/18815 [00:00<?, ?it/s]"
      ]
     },
     "metadata": {},
     "output_type": "display_data"
    },
    {
     "name": "stdout",
     "output_type": "stream",
     "text": [
      "AGabs\n",
      "Sample size: 383\n"
     ]
    },
    {
     "data": {
      "application/vnd.jupyter.widget-view+json": {
       "model_id": "3a1e56183b444a7a91d72ac85824d049",
       "version_major": 2,
       "version_minor": 0
      },
      "text/plain": [
       "  0%|          | 0/15810 [00:00<?, ?it/s]"
      ]
     },
     "metadata": {},
     "output_type": "display_data"
    },
    {
     "name": "stdout",
     "output_type": "stream",
     "text": [
      "BFsmall\n",
      "Sample size: 382\n"
     ]
    },
    {
     "data": {
      "application/vnd.jupyter.widget-view+json": {
       "model_id": "8b2d36c9b1054bc48d7e889664b8d1aa",
       "version_major": 2,
       "version_minor": 0
      },
      "text/plain": [
       "  0%|          | 0/5835 [00:00<?, ?it/s]"
      ]
     },
     "metadata": {},
     "output_type": "display_data"
    },
    {
     "name": "stdout",
     "output_type": "stream",
     "text": [
      "MG\n",
      "Sample size: 383\n"
     ]
    },
    {
     "data": {
      "application/vnd.jupyter.widget-view+json": {
       "model_id": "37e013955cad49b88453411c173a9c64",
       "version_major": 2,
       "version_minor": 0
      },
      "text/plain": [
       "  0%|          | 0/11559 [00:00<?, ?it/s]"
      ]
     },
     "metadata": {},
     "output_type": "display_data"
    },
    {
     "name": "stdout",
     "output_type": "stream",
     "text": [
      "CS\n",
      "Sample size: 385\n"
     ]
    },
    {
     "data": {
      "application/vnd.jupyter.widget-view+json": {
       "model_id": "ddc1d1d1963d41c18578233f3386d991",
       "version_major": 2,
       "version_minor": 0
      },
      "text/plain": [
       "  0%|          | 0/90908 [00:00<?, ?it/s]"
      ]
     },
     "metadata": {},
     "output_type": "display_data"
    },
    {
     "name": "stdout",
     "output_type": "stream",
     "text": [
      "BFmedium\n",
      "Sample size: 382\n"
     ]
    },
    {
     "data": {
      "application/vnd.jupyter.widget-view+json": {
       "model_id": "4a70e5dc286149e88667403979e96f7e",
       "version_major": 2,
       "version_minor": 0
      },
      "text/plain": [
       "  0%|          | 0/6545 [00:00<?, ?it/s]"
      ]
     },
     "metadata": {},
     "output_type": "display_data"
    }
   ],
   "source": [
    "finetune_ds_dir = data_dir / \"datasets/tsv/fine-tuning\"\n",
    "performance_ds_dir = data_dir / \"DataSnooping_Analysis_Data\"\n",
    "\n",
    "dfs = []\n",
    "for dir in finetune_ds_dir.glob(\"*\"):\n",
    "    dataset_name = dir.name\n",
    "    print(dataset_name)\n",
    "    trn_path = finetune_ds_dir / f\"{dataset_name}/training.tsv\"\n",
    "    if dataset_name == \"MG\":\n",
    "        dataset_name = \"Mutants\"\n",
    "    elif dataset_name == \"CS\":\n",
    "        dataset_name = \"CodeSummarization\"\n",
    "    tst_path = performance_ds_dir / f\"{dataset_name}.csv\"\n",
    "\n",
    "    df = Dataset(trn_path, tst_path).compute_overlap(parallelize=True, sample=True)\n",
    "    df[\"dataset_name\"] = dataset_name\n",
    "    dfs.append(df)\n",
    "\n",
    "df = pd.concat(dfs)\n",
    "df.to_csv(data_dir / \"t5-data-performance-overlap.csv\", index=False)"
   ]
  },
  {
   "cell_type": "code",
   "execution_count": 10,
   "metadata": {},
   "outputs": [
    {
     "data": {
      "text/html": [
       "<div>\n",
       "<style scoped>\n",
       "    .dataframe tbody tr th:only-of-type {\n",
       "        vertical-align: middle;\n",
       "    }\n",
       "\n",
       "    .dataframe tbody tr th {\n",
       "        vertical-align: top;\n",
       "    }\n",
       "\n",
       "    .dataframe thead th {\n",
       "        text-align: right;\n",
       "    }\n",
       "</style>\n",
       "<table border=\"1\" class=\"dataframe\">\n",
       "  <thead>\n",
       "    <tr style=\"text-align: right;\">\n",
       "      <th></th>\n",
       "      <th>min_dist</th>\n",
       "      <th>median_dist</th>\n",
       "      <th>max_dist</th>\n",
       "      <th>score</th>\n",
       "      <th>dataset_name</th>\n",
       "    </tr>\n",
       "  </thead>\n",
       "  <tbody>\n",
       "    <tr>\n",
       "      <th>0</th>\n",
       "      <td>54.0</td>\n",
       "      <td>72.0</td>\n",
       "      <td>199.0</td>\n",
       "      <td>0.0</td>\n",
       "      <td>AGraw</td>\n",
       "    </tr>\n",
       "    <tr>\n",
       "      <th>1</th>\n",
       "      <td>5.0</td>\n",
       "      <td>25.0</td>\n",
       "      <td>209.0</td>\n",
       "      <td>1.0</td>\n",
       "      <td>AGraw</td>\n",
       "    </tr>\n",
       "    <tr>\n",
       "      <th>2</th>\n",
       "      <td>14.0</td>\n",
       "      <td>27.0</td>\n",
       "      <td>213.0</td>\n",
       "      <td>1.0</td>\n",
       "      <td>AGraw</td>\n",
       "    </tr>\n",
       "    <tr>\n",
       "      <th>3</th>\n",
       "      <td>26.0</td>\n",
       "      <td>41.0</td>\n",
       "      <td>197.0</td>\n",
       "      <td>0.0</td>\n",
       "      <td>AGraw</td>\n",
       "    </tr>\n",
       "    <tr>\n",
       "      <th>4</th>\n",
       "      <td>48.0</td>\n",
       "      <td>64.0</td>\n",
       "      <td>197.0</td>\n",
       "      <td>0.0</td>\n",
       "      <td>AGraw</td>\n",
       "    </tr>\n",
       "  </tbody>\n",
       "</table>\n",
       "</div>"
      ],
      "text/plain": [
       "   min_dist  median_dist  max_dist  score dataset_name\n",
       "0      54.0         72.0     199.0    0.0        AGraw\n",
       "1       5.0         25.0     209.0    1.0        AGraw\n",
       "2      14.0         27.0     213.0    1.0        AGraw\n",
       "3      26.0         41.0     197.0    0.0        AGraw\n",
       "4      48.0         64.0     197.0    0.0        AGraw"
      ]
     },
     "execution_count": 10,
     "metadata": {},
     "output_type": "execute_result"
    }
   ],
   "source": [
    "results_df = pd.read_csv(data_dir / \"t5-data-performance-overlap.csv\")\n",
    "results_df.head()"
   ]
  },
  {
   "cell_type": "code",
   "execution_count": 11,
   "metadata": {},
   "outputs": [
    {
     "data": {
      "text/html": [
       "<div>\n",
       "<style scoped>\n",
       "    .dataframe tbody tr th:only-of-type {\n",
       "        vertical-align: middle;\n",
       "    }\n",
       "\n",
       "    .dataframe tbody tr th {\n",
       "        vertical-align: top;\n",
       "    }\n",
       "\n",
       "    .dataframe thead th {\n",
       "        text-align: right;\n",
       "    }\n",
       "</style>\n",
       "<table border=\"1\" class=\"dataframe\">\n",
       "  <thead>\n",
       "    <tr style=\"text-align: right;\">\n",
       "      <th></th>\n",
       "      <th>min_dist</th>\n",
       "      <th>median_dist</th>\n",
       "      <th>max_dist</th>\n",
       "      <th>score</th>\n",
       "    </tr>\n",
       "  </thead>\n",
       "  <tbody>\n",
       "    <tr>\n",
       "      <th>count</th>\n",
       "      <td>149472.000000</td>\n",
       "      <td>149472.000000</td>\n",
       "      <td>149472.000000</td>\n",
       "      <td>149472.000000</td>\n",
       "    </tr>\n",
       "    <tr>\n",
       "      <th>mean</th>\n",
       "      <td>34.227126</td>\n",
       "      <td>54.851568</td>\n",
       "      <td>149.492467</td>\n",
       "      <td>0.429783</td>\n",
       "    </tr>\n",
       "    <tr>\n",
       "      <th>std</th>\n",
       "      <td>39.516985</td>\n",
       "      <td>46.584799</td>\n",
       "      <td>110.821879</td>\n",
       "      <td>0.372461</td>\n",
       "    </tr>\n",
       "    <tr>\n",
       "      <th>min</th>\n",
       "      <td>0.000000</td>\n",
       "      <td>21.000000</td>\n",
       "      <td>55.000000</td>\n",
       "      <td>0.000000</td>\n",
       "    </tr>\n",
       "    <tr>\n",
       "      <th>25%</th>\n",
       "      <td>14.000000</td>\n",
       "      <td>33.000000</td>\n",
       "      <td>66.000000</td>\n",
       "      <td>0.000001</td>\n",
       "    </tr>\n",
       "    <tr>\n",
       "      <th>50%</th>\n",
       "      <td>23.000000</td>\n",
       "      <td>37.000000</td>\n",
       "      <td>71.000000</td>\n",
       "      <td>0.363637</td>\n",
       "    </tr>\n",
       "    <tr>\n",
       "      <th>75%</th>\n",
       "      <td>37.000000</td>\n",
       "      <td>52.000000</td>\n",
       "      <td>234.000000</td>\n",
       "      <td>0.770260</td>\n",
       "    </tr>\n",
       "    <tr>\n",
       "      <th>max</th>\n",
       "      <td>1272.000000</td>\n",
       "      <td>1392.000000</td>\n",
       "      <td>1418.000000</td>\n",
       "      <td>1.000001</td>\n",
       "    </tr>\n",
       "  </tbody>\n",
       "</table>\n",
       "</div>"
      ],
      "text/plain": [
       "            min_dist    median_dist       max_dist          score\n",
       "count  149472.000000  149472.000000  149472.000000  149472.000000\n",
       "mean       34.227126      54.851568     149.492467       0.429783\n",
       "std        39.516985      46.584799     110.821879       0.372461\n",
       "min         0.000000      21.000000      55.000000       0.000000\n",
       "25%        14.000000      33.000000      66.000000       0.000001\n",
       "50%        23.000000      37.000000      71.000000       0.363637\n",
       "75%        37.000000      52.000000     234.000000       0.770260\n",
       "max      1272.000000    1392.000000    1418.000000       1.000001"
      ]
     },
     "execution_count": 11,
     "metadata": {},
     "output_type": "execute_result"
    }
   ],
   "source": [
    "results_df.describe()"
   ]
  },
  {
   "cell_type": "code",
   "execution_count": 12,
   "metadata": {},
   "outputs": [
    {
     "data": {
      "text/plain": [
       "array(['AGraw', 'AGabs', 'BFsmall', 'Mutants', 'CodeSummarization',\n",
       "       'BFmedium'], dtype=object)"
      ]
     },
     "execution_count": 12,
     "metadata": {},
     "output_type": "execute_result"
    }
   ],
   "source": [
    "results_df.dataset_name.unique()"
   ]
  },
  {
   "cell_type": "code",
   "execution_count": 13,
   "metadata": {},
   "outputs": [
    {
     "data": {
      "text/plain": [
       "<AxesSubplot:>"
      ]
     },
     "execution_count": 13,
     "metadata": {},
     "output_type": "execute_result"
    },
    {
     "data": {
      "image/png": "[encoded data removed]",
      "text/plain": [
       "<Figure size 432x288 with 1 Axes>"
      ]
     },
     "metadata": {
      "needs_background": "light"
     },
     "output_type": "display_data"
    }
   ],
   "source": [
    "results_df.boxplot(column=[\"min_dist\"])"
   ]
  },
  {
   "cell_type": "code",
   "execution_count": 14,
   "metadata": {},
   "outputs": [
    {
     "data": {
      "text/plain": [
       "<AxesSubplot:>"
      ]
     },
     "execution_count": 14,
     "metadata": {},
     "output_type": "execute_result"
    },
    {
     "data": {
      "image/png": "[encoded data removed]",
      "text/plain": [
       "<Figure size 432x288 with 1 Axes>"
      ]
     },
     "metadata": {
      "needs_background": "light"
     },
     "output_type": "display_data"
    }
   ],
   "source": [
    "results_df.boxplot(column=[\"median_dist\"])"
   ]
  },
  {
   "cell_type": "code",
   "execution_count": 15,
   "metadata": {},
   "outputs": [
    {
     "data": {
      "text/plain": [
       "<AxesSubplot:>"
      ]
     },
     "execution_count": 15,
     "metadata": {},
     "output_type": "execute_result"
    },
    {
     "data": {
      "image/png": "[encoded data removed]",
      "text/plain": [
       "<Figure size 432x288 with 1 Axes>"
      ]
     },
     "metadata": {
      "needs_background": "light"
     },
     "output_type": "display_data"
    }
   ],
   "source": [
    "results_df.boxplot(column=[\"max_dist\"])"
   ]
  },
  {
   "cell_type": "code",
   "execution_count": 16,
   "metadata": {},
   "outputs": [
    {
     "data": {
      "text/plain": [
       "<AxesSubplot:>"
      ]
     },
     "execution_count": 16,
     "metadata": {},
     "output_type": "execute_result"
    },
    {
     "data": {
      "image/png": "[encoded data removed]",
      "text/plain": [
       "<Figure size 432x288 with 1 Axes>"
      ]
     },
     "metadata": {
      "needs_background": "light"
     },
     "output_type": "display_data"
    }
   ],
   "source": [
    "results_df.boxplot(column=[\"score\"])"
   ]
  },
  {
   "cell_type": "code",
   "execution_count": 17,
   "metadata": {},
   "outputs": [],
   "source": [
    "agraw_df = results_df[results_df.dataset_name == \"AGraw\"] # Binary score\n",
    "agab_df = results_df[results_df.dataset_name == \"AGabs\"] # Binary score\n",
    "bfsm_df = results_df[results_df.dataset_name == \"BFsmall\"] # Binary score\n",
    "bfmd_df = results_df[results_df.dataset_name == \"BFmedium\"] # Binary score\n",
    "mut_df = results_df[results_df.dataset_name == \"Mutants\"] # Continuous score\n",
    "cs_df = results_df[results_df.dataset_name == \"CodeSummarization\"] # Continuous score"
   ]
  },
  {
   "cell_type": "code",
   "execution_count": 28,
   "metadata": {},
   "outputs": [],
   "source": [
    "# From: https://towardsdatascience.com/point-biserial-correlation-with-python-f7cd591bd3b1\n",
    "def point_biserial_correlation(df):\n",
    "    corrs = []\n",
    "    for col in df.columns:\n",
    "        if col != \"score\" and col != \"dataset_name\":\n",
    "            x = df[\"score\"].values\n",
    "            y = df[col].values\n",
    "            pbc = pointbiserialr(x, y)\n",
    "            corrs.append(pbc[0])\n",
    "   \n",
    "    return corrs\n",
    "\n",
    "def pearson_correlation(df):\n",
    "    return df[\"min_dist\"].corr(df[\"score\"]), df[\"median_dist\"].corr(df[\"score\"]), df[\"max_dist\"].corr(df[\"score\"])\n",
    "\n",
    "min_agraw_corr, median_agraw_corr, max_agraw_corr = point_biserial_correlation(agraw_df)\n",
    "min_agab_corr, median_agab_corr, max_agab_corr = point_biserial_correlation(agab_df)\n",
    "min_bfsm_corr, median_bfsm_corr, max_bfsm_corr = point_biserial_correlation(bfsm_df)\n",
    "min_bfmd_corr, median_bfmd_corr, max_bfmd_corr = point_biserial_correlation(bfmd_df)\n",
    "\n",
    "min_mut_corr, median_mut_corr, max_mut_corr = pearson_correlation(mut_df)\n",
    "min_cs_corr, median_cs_corr, max_cs_corr = pearson_correlation(cs_df)"
   ]
  },
  {
   "cell_type": "code",
   "execution_count": 29,
   "metadata": {},
   "outputs": [
    {
     "data": {
      "text/plain": [
       "(-0.19544099112054408, -0.17372490477839275, 0.113084507247662)"
      ]
     },
     "execution_count": 29,
     "metadata": {},
     "output_type": "execute_result"
    }
   ],
   "source": [
    "min_agraw_corr, median_agraw_corr, max_agraw_corr"
   ]
  },
  {
   "cell_type": "code",
   "execution_count": 30,
   "metadata": {},
   "outputs": [
    {
     "data": {
      "text/plain": [
       "(-0.21280413682842614, -0.1889615386352106, 0.233512645448679)"
      ]
     },
     "execution_count": 30,
     "metadata": {},
     "output_type": "execute_result"
    }
   ],
   "source": [
    "min_agab_corr, median_agab_corr, max_agab_corr"
   ]
  },
  {
   "cell_type": "code",
   "execution_count": 31,
   "metadata": {},
   "outputs": [
    {
     "data": {
      "text/plain": [
       "(-0.14966755220930258, -0.07999696402627492, 0.14870001813517694)"
      ]
     },
     "execution_count": 31,
     "metadata": {},
     "output_type": "execute_result"
    }
   ],
   "source": [
    "min_bfsm_corr, median_bfsm_corr, max_bfsm_corr"
   ]
  },
  {
   "cell_type": "code",
   "execution_count": 32,
   "metadata": {},
   "outputs": [
    {
     "data": {
      "text/plain": [
       "(-0.04661900781625006, -0.039005326418497674, 0.0143679508521035)"
      ]
     },
     "execution_count": 32,
     "metadata": {},
     "output_type": "execute_result"
    }
   ],
   "source": [
    "min_bfmd_corr, median_bfmd_corr, max_bfmd_corr"
   ]
  },
  {
   "cell_type": "code",
   "execution_count": 33,
   "metadata": {},
   "outputs": [
    {
     "data": {
      "text/plain": [
       "(0.1942475574771941, 0.122657677117703, -0.23029210921761165)"
      ]
     },
     "execution_count": 33,
     "metadata": {},
     "output_type": "execute_result"
    }
   ],
   "source": [
    "min_mut_corr, median_mut_corr, max_mut_corr"
   ]
  },
  {
   "cell_type": "code",
   "execution_count": 34,
   "metadata": {},
   "outputs": [
    {
     "data": {
      "text/plain": [
       "(-0.2903073756564675, -0.1347979073215824, -0.09331631074423853)"
      ]
     },
     "execution_count": 34,
     "metadata": {},
     "output_type": "execute_result"
    }
   ],
   "source": [
    "min_cs_corr, median_cs_corr, max_cs_corr"
   ]
  },
  {
   "cell_type": "code",
   "execution_count": null,
   "metadata": {},
   "outputs": [],
   "source": []
  },
  {
   "cell_type": "code",
   "execution_count": 16,
   "metadata": {},
   "outputs": [
    {
     "data": {
      "text/plain": [
       "(-0.22176577508958056, -0.18263469744583494, -0.10691389431476035)"
      ]
     },
     "execution_count": 16,
     "metadata": {},
     "output_type": "execute_result"
    }
   ],
   "source": [
    "results_df[\"min_dist\"].corr(results_df[\"score\"]), results_df[\"median_dist\"].corr(results_df[\"score\"]), results_df[\"max_dist\"].corr(results_df[\"score\"])"
   ]
  },
  {
   "cell_type": "code",
   "execution_count": 24,
   "metadata": {},
   "outputs": [],
   "source": [
    "cs_results_df = results_df[results_df.dataset_name == \"CodeSummarization\"]"
   ]
  },
  {
   "cell_type": "code",
   "execution_count": 25,
   "metadata": {},
   "outputs": [
    {
     "data": {
      "text/plain": [
       "(-0.2903073756564675, -0.1347979073215824, -0.09331631074423853)"
      ]
     },
     "execution_count": 25,
     "metadata": {},
     "output_type": "execute_result"
    }
   ],
   "source": [
    "cs_results_df[\"min_dist\"].corr(cs_results_df[\"score\"]), cs_results_df[\"median_dist\"].corr(cs_results_df[\"score\"]), cs_results_df[\"max_dist\"].corr(cs_results_df[\"score\"])"
   ]
  },
  {
   "cell_type": "code",
   "execution_count": 27,
   "metadata": {},
   "outputs": [
    {
     "data": {
      "text/plain": [
       "<AxesSubplot:xlabel='score', ylabel='median_dist'>"
      ]
     },
     "execution_count": 27,
     "metadata": {},
     "output_type": "execute_result"
    },
    {
     "data": {
      "image/png": "[encoded data removed]",
      "text/plain": [
       "<Figure size 432x288 with 1 Axes>"
      ]
     },
     "metadata": {
      "needs_background": "light"
     },
     "output_type": "display_data"
    }
   ],
   "source": [
    "cs_results_df.plot(x=\"score\", y=\"median_dist\", kind=\"scatter\")"
   ]
  },
  {
   "cell_type": "code",
   "execution_count": 28,
   "metadata": {},
   "outputs": [],
   "source": [
    "mut_results_df = results_df[results_df.dataset_name == \"Mutants\"]"
   ]
  },
  {
   "cell_type": "code",
   "execution_count": 29,
   "metadata": {},
   "outputs": [
    {
     "data": {
      "text/plain": [
       "(0.1942475574771941, 0.122657677117703, -0.23029210921761165)"
      ]
     },
     "execution_count": 29,
     "metadata": {},
     "output_type": "execute_result"
    }
   ],
   "source": [
    "mut_results_df[\"min_dist\"].corr(mut_results_df[\"score\"]), mut_results_df[\"median_dist\"].corr(mut_results_df[\"score\"]), mut_results_df[\"max_dist\"].corr(mut_results_df[\"score\"])"
   ]
  },
  {
   "cell_type": "code",
   "execution_count": 30,
   "metadata": {},
   "outputs": [
    {
     "data": {
      "text/plain": [
       "<AxesSubplot:xlabel='score', ylabel='median_dist'>"
      ]
     },
     "execution_count": 30,
     "metadata": {},
     "output_type": "execute_result"
    },
    {
     "data": {
      "image/png": "[encoded data removed]",
      "text/plain": [
       "<Figure size 432x288 with 1 Axes>"
      ]
     },
     "metadata": {
      "needs_background": "light"
     },
     "output_type": "display_data"
    }
   ],
   "source": [
    "mut_results_df.plot(x=\"score\", y=\"median_dist\", kind=\"scatter\")"
   ]
  },
  {
   "cell_type": "code",
   "execution_count": 31,
   "metadata": {},
   "outputs": [
    {
     "data": {
      "text/plain": [
       "<AxesSubplot:xlabel='score', ylabel='max_dist'>"
      ]
     },
     "execution_count": 31,
     "metadata": {},
     "output_type": "execute_result"
    },
    {
     "data": {
      "image/png": "[encoded data removed]",
      "text/plain": [
       "<Figure size 432x288 with 1 Axes>"
      ]
     },
     "metadata": {
      "needs_background": "light"
     },
     "output_type": "display_data"
    }
   ],
   "source": [
    "mut_results_df.plot(x=\"score\", y=\"max_dist\", kind=\"scatter\")"
   ]
  },
  {
   "cell_type": "code",
   "execution_count": null,
   "metadata": {},
   "outputs": [],
   "source": [
    "# From: https://towardsdatascience.com/point-biserial-correlation-with-python-f7cd591bd3b1\n",
    "def point_biserial_correlation(x, y):\n",
    "    # pbc of first question\n",
    "    pbc = pointbiserialr(x, y)\n",
    "    return pbc[0]\n",
    "\n",
    "point_biserial_correlation(cs_results_df[\"score\"], cs_results_df[\"min_dist\"])"
   ]
  },
  {
   "cell_type": "code",
   "execution_count": 64,
   "metadata": {},
   "outputs": [
    {
     "name": "stdout",
     "output_type": "stream",
     "text": [
      "AGraw\n"
     ]
    },
    {
     "data": {
      "application/vnd.jupyter.widget-view+json": {
       "model_id": "b622f1d6215b495380bd5b6879eb7e26",
       "version_major": 2,
       "version_minor": 0
      },
      "text/plain": [
       "  0%|          | 0/100 [00:00<?, ?it/s]"
      ]
     },
     "metadata": {},
     "output_type": "display_data"
    },
    {
     "name": "stdout",
     "output_type": "stream",
     "text": [
      "AGabs\n"
     ]
    },
    {
     "data": {
      "application/vnd.jupyter.widget-view+json": {
       "model_id": "7e4b58665cf244f6b7dc449da1ff6255",
       "version_major": 2,
       "version_minor": 0
      },
      "text/plain": [
       "  0%|          | 0/100 [00:00<?, ?it/s]"
      ]
     },
     "metadata": {},
     "output_type": "display_data"
    },
    {
     "name": "stdout",
     "output_type": "stream",
     "text": [
      "BFsmall\n"
     ]
    },
    {
     "data": {
      "application/vnd.jupyter.widget-view+json": {
       "model_id": "302b3fcbdb3f4164996b97117aa5c09c",
       "version_major": 2,
       "version_minor": 0
      },
      "text/plain": [
       "  0%|          | 0/100 [00:00<?, ?it/s]"
      ]
     },
     "metadata": {},
     "output_type": "display_data"
    },
    {
     "name": "stdout",
     "output_type": "stream",
     "text": [
      "MG\n"
     ]
    },
    {
     "data": {
      "application/vnd.jupyter.widget-view+json": {
       "model_id": "c878f48dff214e10ac072f6d9a7511df",
       "version_major": 2,
       "version_minor": 0
      },
      "text/plain": [
       "  0%|          | 0/100 [00:00<?, ?it/s]"
      ]
     },
     "metadata": {},
     "output_type": "display_data"
    },
    {
     "name": "stdout",
     "output_type": "stream",
     "text": [
      "CS\n"
     ]
    },
    {
     "data": {
      "application/vnd.jupyter.widget-view+json": {
       "model_id": "b6b95df5dedc4f659da3e9c8edb0215b",
       "version_major": 2,
       "version_minor": 0
      },
      "text/plain": [
       "  0%|          | 0/100 [00:00<?, ?it/s]"
      ]
     },
     "metadata": {},
     "output_type": "display_data"
    },
    {
     "name": "stdout",
     "output_type": "stream",
     "text": [
      "BFmedium\n"
     ]
    },
    {
     "data": {
      "application/vnd.jupyter.widget-view+json": {
       "model_id": "1bdaf8be28ec481dac9d910199897e47",
       "version_major": 2,
       "version_minor": 0
      },
      "text/plain": [
       "  0%|          | 0/100 [00:00<?, ?it/s]"
      ]
     },
     "metadata": {},
     "output_type": "display_data"
    },
    {
     "name": "stdout",
     "output_type": "stream",
     "text": [
      "CPU times: user 23.5 s, sys: 1.73 s, total: 25.2 s\n",
      "Wall time: 14min 6s\n"
     ]
    }
   ],
   "source": [
    "%%time\n",
    "finetune_ds_dir = data_dir / \"datasets/tsv/fine-tuning\"\n",
    "performance_ds_dir = data_dir / \"DataSnooping_Analysis_Data\"\n",
    "sample_size=100\n",
    "\n",
    "dfs = []\n",
    "for dir in finetune_ds_dir.glob(\"*\"):\n",
    "    dataset_name = dir.name\n",
    "    print(dataset_name)\n",
    "    trn_path = finetune_ds_dir / f\"{dataset_name}/training.tsv\"\n",
    "    if dataset_name == \"MG\":\n",
    "        dataset_name = \"Mutants\"\n",
    "    elif dataset_name == \"CS\":\n",
    "        dataset_name = \"CodeSummarization\"\n",
    "    tst_path = performance_ds_dir / f\"{dataset_name}.csv\"\n",
    "\n",
    "    df = Dataset(trn_path, tst_path).compute_overlap(parallelize=True, sample_size=sample_size)\n",
    "    df[\"dataset_name\"] = dataset_name\n",
    "    dfs.append(df)\n",
    "\n",
    "df = pd.concat(dfs)"
   ]
  },
  {
   "cell_type": "code",
   "execution_count": 65,
   "metadata": {},
   "outputs": [
    {
     "name": "stdout",
     "output_type": "stream",
     "text": [
      "AGraw\n"
     ]
    },
    {
     "data": {
      "application/vnd.jupyter.widget-view+json": {
       "model_id": "401167a62d20486ab5d9f076f8d6ab9a",
       "version_major": 2,
       "version_minor": 0
      },
      "text/plain": [
       "  0%|          | 0/100 [00:00<?, ?it/s]"
      ]
     },
     "metadata": {},
     "output_type": "display_data"
    },
    {
     "name": "stdout",
     "output_type": "stream",
     "text": [
      "AGabs\n"
     ]
    },
    {
     "data": {
      "application/vnd.jupyter.widget-view+json": {
       "model_id": "9c926721530f4421bbb49b0445bdbe9a",
       "version_major": 2,
       "version_minor": 0
      },
      "text/plain": [
       "  0%|          | 0/100 [00:00<?, ?it/s]"
      ]
     },
     "metadata": {},
     "output_type": "display_data"
    },
    {
     "name": "stdout",
     "output_type": "stream",
     "text": [
      "BFsmall\n"
     ]
    },
    {
     "data": {
      "application/vnd.jupyter.widget-view+json": {
       "model_id": "1faf01938ba54f59917a1dfe2d4fb0cf",
       "version_major": 2,
       "version_minor": 0
      },
      "text/plain": [
       "  0%|          | 0/100 [00:00<?, ?it/s]"
      ]
     },
     "metadata": {},
     "output_type": "display_data"
    },
    {
     "name": "stdout",
     "output_type": "stream",
     "text": [
      "MG\n"
     ]
    },
    {
     "data": {
      "application/vnd.jupyter.widget-view+json": {
       "model_id": "31abfe3e7d5541b5ae66f1e21647623e",
       "version_major": 2,
       "version_minor": 0
      },
      "text/plain": [
       "  0%|          | 0/100 [00:00<?, ?it/s]"
      ]
     },
     "metadata": {},
     "output_type": "display_data"
    },
    {
     "name": "stdout",
     "output_type": "stream",
     "text": [
      "CS\n"
     ]
    },
    {
     "data": {
      "application/vnd.jupyter.widget-view+json": {
       "model_id": "a915fe214a294c60a2259234454d93f4",
       "version_major": 2,
       "version_minor": 0
      },
      "text/plain": [
       "  0%|          | 0/100 [00:00<?, ?it/s]"
      ]
     },
     "metadata": {},
     "output_type": "display_data"
    },
    {
     "name": "stdout",
     "output_type": "stream",
     "text": [
      "BFmedium\n"
     ]
    },
    {
     "data": {
      "application/vnd.jupyter.widget-view+json": {
       "model_id": "e83c3444e6254f708c7e11a010d2892b",
       "version_major": 2,
       "version_minor": 0
      },
      "text/plain": [
       "  0%|          | 0/100 [00:00<?, ?it/s]"
      ]
     },
     "metadata": {},
     "output_type": "display_data"
    },
    {
     "name": "stdout",
     "output_type": "stream",
     "text": [
      "CPU times: user 55min 3s, sys: 1.2 s, total: 55min 4s\n",
      "Wall time: 55min 4s\n"
     ]
    }
   ],
   "source": [
    "%%time\n",
    "finetune_ds_dir = data_dir / \"datasets/tsv/fine-tuning\"\n",
    "performance_ds_dir = data_dir / \"DataSnooping_Analysis_Data\"\n",
    "sample_size=100\n",
    "\n",
    "dfs = []\n",
    "for dir in finetune_ds_dir.glob(\"*\"):\n",
    "    dataset_name = dir.name\n",
    "    print(dataset_name)\n",
    "    trn_path = finetune_ds_dir / f\"{dataset_name}/training.tsv\"\n",
    "    if dataset_name == \"MG\":\n",
    "        dataset_name = \"Mutants\"\n",
    "    elif dataset_name == \"CS\":\n",
    "        dataset_name = \"CodeSummarization\"\n",
    "    tst_path = performance_ds_dir / f\"{dataset_name}.csv\"\n",
    "\n",
    "    df = Dataset(trn_path, tst_path).compute_overlap(parallelize=False, sample_size=sample_size)\n",
    "    df[\"dataset_name\"] = dataset_name\n",
    "    dfs.append(df)\n",
    "\n",
    "df = pd.concat(dfs)"
   ]
  },
  {
   "cell_type": "code",
   "execution_count": 42,
   "metadata": {},
   "outputs": [
    {
     "data": {
      "text/html": [
       "<div>\n",
       "<style scoped>\n",
       "    .dataframe tbody tr th:only-of-type {\n",
       "        vertical-align: middle;\n",
       "    }\n",
       "\n",
       "    .dataframe tbody tr th {\n",
       "        vertical-align: top;\n",
       "    }\n",
       "\n",
       "    .dataframe thead th {\n",
       "        text-align: right;\n",
       "    }\n",
       "</style>\n",
       "<table border=\"1\" class=\"dataframe\">\n",
       "  <thead>\n",
       "    <tr style=\"text-align: right;\">\n",
       "      <th></th>\n",
       "      <th>min_dist</th>\n",
       "      <th>median_dist</th>\n",
       "      <th>max_dist</th>\n",
       "      <th>score</th>\n",
       "      <th>dataset_name</th>\n",
       "    </tr>\n",
       "  </thead>\n",
       "  <tbody>\n",
       "    <tr>\n",
       "      <th>0</th>\n",
       "      <td>47.0</td>\n",
       "      <td>72.5</td>\n",
       "      <td>158.0</td>\n",
       "      <td>0.433893</td>\n",
       "      <td>Mutants</td>\n",
       "    </tr>\n",
       "    <tr>\n",
       "      <th>1</th>\n",
       "      <td>139.0</td>\n",
       "      <td>157.5</td>\n",
       "      <td>171.0</td>\n",
       "      <td>1.000000</td>\n",
       "      <td>Mutants</td>\n",
       "    </tr>\n",
       "    <tr>\n",
       "      <th>2</th>\n",
       "      <td>33.0</td>\n",
       "      <td>67.5</td>\n",
       "      <td>161.0</td>\n",
       "      <td>1.000000</td>\n",
       "      <td>Mutants</td>\n",
       "    </tr>\n",
       "    <tr>\n",
       "      <th>3</th>\n",
       "      <td>78.0</td>\n",
       "      <td>89.5</td>\n",
       "      <td>136.0</td>\n",
       "      <td>0.911597</td>\n",
       "      <td>Mutants</td>\n",
       "    </tr>\n",
       "    <tr>\n",
       "      <th>4</th>\n",
       "      <td>61.0</td>\n",
       "      <td>71.5</td>\n",
       "      <td>162.0</td>\n",
       "      <td>0.972414</td>\n",
       "      <td>Mutants</td>\n",
       "    </tr>\n",
       "  </tbody>\n",
       "</table>\n",
       "</div>"
      ],
      "text/plain": [
       "   min_dist  median_dist  max_dist     score dataset_name\n",
       "0      47.0         72.5     158.0  0.433893      Mutants\n",
       "1     139.0        157.5     171.0  1.000000      Mutants\n",
       "2      33.0         67.5     161.0  1.000000      Mutants\n",
       "3      78.0         89.5     136.0  0.911597      Mutants\n",
       "4      61.0         71.5     162.0  0.972414      Mutants"
      ]
     },
     "execution_count": 42,
     "metadata": {},
     "output_type": "execute_result"
    }
   ],
   "source": [
    "df[df[\"dataset_name\"]==\"Mutants\"].head()"
   ]
  },
  {
   "cell_type": "code",
   "execution_count": 36,
   "metadata": {},
   "outputs": [
    {
     "data": {
      "application/vnd.jupyter.widget-view+json": {
       "model_id": "d6f1be8d1d444deaafafd82dadc55650",
       "version_major": 2,
       "version_minor": 0
      },
      "text/plain": [
       "  0%|          | 0/10 [00:00<?, ?it/s]"
      ]
     },
     "metadata": {},
     "output_type": "display_data"
    },
    {
     "data": {
      "text/html": [
       "<div>\n",
       "<style scoped>\n",
       "    .dataframe tbody tr th:only-of-type {\n",
       "        vertical-align: middle;\n",
       "    }\n",
       "\n",
       "    .dataframe tbody tr th {\n",
       "        vertical-align: top;\n",
       "    }\n",
       "\n",
       "    .dataframe thead th {\n",
       "        text-align: right;\n",
       "    }\n",
       "</style>\n",
       "<table border=\"1\" class=\"dataframe\">\n",
       "  <thead>\n",
       "    <tr style=\"text-align: right;\">\n",
       "      <th></th>\n",
       "      <th>min_dist</th>\n",
       "      <th>median_dist</th>\n",
       "      <th>max_dist</th>\n",
       "      <th>score</th>\n",
       "    </tr>\n",
       "  </thead>\n",
       "  <tbody>\n",
       "    <tr>\n",
       "      <th>0</th>\n",
       "      <td>10.0</td>\n",
       "      <td>23.0</td>\n",
       "      <td>79.0</td>\n",
       "      <td>False</td>\n",
       "    </tr>\n",
       "    <tr>\n",
       "      <th>1</th>\n",
       "      <td>8.0</td>\n",
       "      <td>23.5</td>\n",
       "      <td>80.0</td>\n",
       "      <td>True</td>\n",
       "    </tr>\n",
       "    <tr>\n",
       "      <th>2</th>\n",
       "      <td>9.0</td>\n",
       "      <td>27.5</td>\n",
       "      <td>92.0</td>\n",
       "      <td>True</td>\n",
       "    </tr>\n",
       "    <tr>\n",
       "      <th>3</th>\n",
       "      <td>10.0</td>\n",
       "      <td>28.5</td>\n",
       "      <td>92.0</td>\n",
       "      <td>True</td>\n",
       "    </tr>\n",
       "    <tr>\n",
       "      <th>4</th>\n",
       "      <td>25.0</td>\n",
       "      <td>32.0</td>\n",
       "      <td>74.0</td>\n",
       "      <td>False</td>\n",
       "    </tr>\n",
       "    <tr>\n",
       "      <th>5</th>\n",
       "      <td>27.0</td>\n",
       "      <td>32.0</td>\n",
       "      <td>83.0</td>\n",
       "      <td>True</td>\n",
       "    </tr>\n",
       "    <tr>\n",
       "      <th>6</th>\n",
       "      <td>19.0</td>\n",
       "      <td>24.5</td>\n",
       "      <td>79.0</td>\n",
       "      <td>False</td>\n",
       "    </tr>\n",
       "    <tr>\n",
       "      <th>7</th>\n",
       "      <td>13.0</td>\n",
       "      <td>26.5</td>\n",
       "      <td>87.0</td>\n",
       "      <td>True</td>\n",
       "    </tr>\n",
       "    <tr>\n",
       "      <th>8</th>\n",
       "      <td>26.0</td>\n",
       "      <td>50.5</td>\n",
       "      <td>75.0</td>\n",
       "      <td>False</td>\n",
       "    </tr>\n",
       "    <tr>\n",
       "      <th>9</th>\n",
       "      <td>9.0</td>\n",
       "      <td>27.5</td>\n",
       "      <td>92.0</td>\n",
       "      <td>False</td>\n",
       "    </tr>\n",
       "  </tbody>\n",
       "</table>\n",
       "</div>"
      ],
      "text/plain": [
       "   min_dist  median_dist  max_dist  score\n",
       "0      10.0         23.0      79.0  False\n",
       "1       8.0         23.5      80.0   True\n",
       "2       9.0         27.5      92.0   True\n",
       "3      10.0         28.5      92.0   True\n",
       "4      25.0         32.0      74.0  False\n",
       "5      27.0         32.0      83.0   True\n",
       "6      19.0         24.5      79.0  False\n",
       "7      13.0         26.5      87.0   True\n",
       "8      26.0         50.5      75.0  False\n",
       "9       9.0         27.5      92.0  False"
      ]
     },
     "execution_count": 36,
     "metadata": {},
     "output_type": "execute_result"
    }
   ],
   "source": [
    "ds.compute_overlap(sample_size=10)"
   ]
  },
  {
   "cell_type": "code",
   "execution_count": null,
   "metadata": {},
   "outputs": [],
   "source": []
  }
 ],
 "metadata": {
  "kernelspec": {
   "display_name": "Python 3.10.5 ('pymc_env')",
   "language": "python",
   "name": "python3"
  },
  "language_info": {
   "codemirror_mode": {
    "name": "ipython",
    "version": 3
   },
   "file_extension": ".py",
   "mimetype": "text/x-python",
   "name": "python",
   "nbconvert_exporter": "python",
   "pygments_lexer": "ipython3",
   "version": "3.10.5"
  },
  "vscode": {
   "interpreter": {
    "hash": "26beeceb4e94b023dd20e036062611ba91b91eca5c5c7fe835f4b0ead160d9c8"
   }
  }
 },
 "nbformat": 4,
 "nbformat_minor": 2
}
