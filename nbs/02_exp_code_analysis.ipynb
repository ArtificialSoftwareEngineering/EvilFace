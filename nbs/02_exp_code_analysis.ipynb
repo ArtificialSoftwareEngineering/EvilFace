{
 "cells": [
  {
   "cell_type": "code",
   "execution_count": null,
   "id": "recent-christianity",
   "metadata": {},
   "outputs": [],
   "source": [
    "# default_exp exp_code_analysis"
   ]
  },
  {
   "cell_type": "markdown",
   "id": "amino-treasurer",
   "metadata": {},
   "source": [
    "# Exploratory Code Analysis\n",
    ">\n",
    "> A \n",
    ">"
   ]
  },
  {
   "cell_type": "code",
   "execution_count": null,
   "id": "forward-grace",
   "metadata": {},
   "outputs": [],
   "source": []
  }
 ],
 "metadata": {
  "kernelspec": {
   "display_name": "Python 3",
   "language": "python",
   "name": "python3"
  },
  "language_info": {
   "codemirror_mode": {
    "name": "ipython",
    "version": 3
   },
   "file_extension": ".py",
   "mimetype": "text/x-python",
   "name": "python",
   "nbconvert_exporter": "python",
   "pygments_lexer": "ipython3",
   "version": "3.8.6"
  }
 },
 "nbformat": 4,
 "nbformat_minor": 5
}
