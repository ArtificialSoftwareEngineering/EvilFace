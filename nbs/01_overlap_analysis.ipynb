{
 "cells": [
  {
   "cell_type": "code",
   "execution_count": 1,
   "id": "completed-sperm",
   "metadata": {},
   "outputs": [
    {
     "name": "stdout",
     "output_type": "stream",
     "text": [
      "\u001b[33mWARNING: The directory '/home/jovyan/.cache/pip' or its parent directory is not owned or is not writable by the current user. The cache has been disabled. Check the permissions and owner of that directory. If executing pip with sudo, you may want sudo's -H flag.\u001b[0m\n",
      "Collecting gdown\n",
      "  Downloading gdown-4.2.0.tar.gz (13 kB)\n",
      "  Installing build dependencies ... \u001b[?25ldone\n",
      "\u001b[?25h  Getting requirements to build wheel ... \u001b[?25ldone\n",
      "\u001b[?25h    Preparing wheel metadata ... \u001b[?25ldone\n",
      "\u001b[?25hCollecting sentencepiece\n",
      "  Downloading sentencepiece-0.1.96-cp38-cp38-manylinux_2_17_x86_64.manylinux2014_x86_64.whl (1.2 MB)\n",
      "\u001b[K     |████████████████████████████████| 1.2 MB 7.1 MB/s \n",
      "\u001b[?25hRequirement already satisfied: statsmodels in /opt/conda/lib/python3.8/site-packages (0.12.2)\n",
      "Requirement already satisfied: requests[socks] in /opt/conda/lib/python3.8/site-packages (from gdown) (2.25.1)\n",
      "Requirement already satisfied: beautifulsoup4 in /opt/conda/lib/python3.8/site-packages (from gdown) (4.9.3)\n",
      "Requirement already satisfied: tqdm in /opt/conda/lib/python3.8/site-packages (from gdown) (4.59.0)\n",
      "Requirement already satisfied: six in /opt/conda/lib/python3.8/site-packages (from gdown) (1.15.0)\n",
      "Requirement already satisfied: filelock in /opt/conda/lib/python3.8/site-packages (from gdown) (3.0.12)\n",
      "Requirement already satisfied: patsy>=0.5 in /opt/conda/lib/python3.8/site-packages (from statsmodels) (0.5.1)\n",
      "Requirement already satisfied: scipy>=1.1 in /opt/conda/lib/python3.8/site-packages (from statsmodels) (1.5.3)\n",
      "Requirement already satisfied: pandas>=0.21 in /opt/conda/lib/python3.8/site-packages (from statsmodels) (1.1.5)\n",
      "Requirement already satisfied: numpy>=1.15 in /opt/conda/lib/python3.8/site-packages (from statsmodels) (1.19.5)\n",
      "Requirement already satisfied: python-dateutil>=2.7.3 in /opt/conda/lib/python3.8/site-packages (from pandas>=0.21->statsmodels) (2.8.1)\n",
      "Requirement already satisfied: pytz>=2017.2 in /opt/conda/lib/python3.8/site-packages (from pandas>=0.21->statsmodels) (2021.1)\n",
      "Requirement already satisfied: soupsieve>1.2 in /opt/conda/lib/python3.8/site-packages (from beautifulsoup4->gdown) (2.0.1)\n",
      "Requirement already satisfied: idna<3,>=2.5 in /opt/conda/lib/python3.8/site-packages (from requests[socks]->gdown) (2.10)\n",
      "Requirement already satisfied: chardet<5,>=3.0.2 in /opt/conda/lib/python3.8/site-packages (from requests[socks]->gdown) (4.0.0)\n",
      "Requirement already satisfied: urllib3<1.27,>=1.21.1 in /opt/conda/lib/python3.8/site-packages (from requests[socks]->gdown) (1.26.3)\n",
      "Requirement already satisfied: certifi>=2017.4.17 in /opt/conda/lib/python3.8/site-packages (from requests[socks]->gdown) (2020.12.5)\n",
      "Requirement already satisfied: PySocks!=1.5.7,>=1.5.6 in /opt/conda/lib/python3.8/site-packages (from requests[socks]->gdown) (1.7.1)\n",
      "Building wheels for collected packages: gdown\n",
      "  Building wheel for gdown (PEP 517) ... \u001b[?25ldone\n",
      "\u001b[?25h  Created wheel for gdown: filename=gdown-4.2.0-py3-none-any.whl size=14262 sha256=39533dfee45f1890b982179c80a6ec4f15cadc64dc908395e371228e612a4af1\n",
      "  Stored in directory: /tmp/pip-ephem-wheel-cache-wup76ozl/wheels/2b/3c/51/52c46deda5cd1d59c6ce3d441ea5f3d155495dc294c4535a25\n",
      "Successfully built gdown\n",
      "Installing collected packages: sentencepiece, gdown\n",
      "Successfully installed gdown-4.2.0 sentencepiece-0.1.96\n"
     ]
    }
   ],
   "source": [
    "! pip install gdown sentencepiece statsmodels"
   ]
  },
  {
   "cell_type": "code",
   "execution_count": null,
   "metadata": {},
   "outputs": [],
   "source": [
    "! gdown https://drive.google.com/uc?id=1zKW5bOMjKHfX75d_uz8OF2teTb5Dse_M # datasets.zip\n",
    "! gdown https://drive.google.com/uc?id=1EFPcdIpl-uez4e0918Yk4hQrLRyGczxf # DataSnooping_Analysis_Data.zip"
   ]
  },
  {
   "cell_type": "code",
   "execution_count": 3,
   "metadata": {},
   "outputs": [
    {
     "name": "stdout",
     "output_type": "stream",
     "text": [
      "File exists: /home/jovyan/data/\n",
      "File exists: /home/jovyan/data/\n"
     ]
    }
   ],
   "source": [
    "import gdown\n",
    "\n",
    "ids = [\"1zKW5bOMjKHfX75d_uz8OF2teTb5Dse_M\", \"1EFPcdIpl-uez4e0918Yk4hQrLRyGczxf\"]\n",
    "for id in ids:\n",
    "    url = \"https://drive.google.com/uc?id=\" + id\n",
    "    gdown.cached_download(url, \"/home/jovyan/data/\", postprocess=gdown.extractall)"
   ]
  },
  {
   "cell_type": "code",
   "execution_count": null,
   "metadata": {},
   "outputs": [],
   "source": [
    "import pandas as pd\n",
    "\n",
    "from pathlib import Path\n",
    "\n",
    "fine_tune_path = Path(\"datasets/tsv/fine-tuning\")\n",
    "\n",
    "def get_agab_dfs():\n",
    "    trn_agab_df = pd.read_csv(\n",
    "        fine_tune_path/\"AGabs/training.tsv\", sep=\"\\t\", \n",
    "        names=[\"input\", \"target\"]\n",
    "    )\n",
    "    tst_agab_df = pd.read_csv(\n",
    "        \"DataSnooping_Analysis_Data/AGabs.csv\", index_col=0\n",
    "    ).sort_values(\"IS_Perfect\")\n",
    "\n",
    "    return trn_agab_df, tst_agab_df\n",
    "\n",
    "def get_agraw_dfs():\n",
    "    trn_agraw_df = pd.read_csv(\n",
    "        fine_tune_path/\"AGraw/training.tsv\", sep=\"\\t\",\n",
    "        names=[\"input\", \"target\"]\n",
    "    )\n",
    "    tst_agraw_df = pd.read_csv(\n",
    "        \"DataSnooping_Analysis_Data/AGraw.csv\", index_col=0\n",
    "    ).sort_values(\"IS_Perfect\")\n",
    "\n",
    "    return trn_agraw_df, tst_agraw_df\n",
    "\n",
    "def get_bfsm_dfs():\n",
    "    trn_bfsm_df = pd.read_csv(\n",
    "        \"datasets/tsv/fine-tuning/BFsmall/training.tsv\", sep=\"\\t\",\n",
    "        names=[\"input\", \"target\"]\n",
    "    )\n",
    "    tst_bfsm_df = pd.read_csv(\n",
    "        \"DataSnooping_Analysis_Data/BFsmall.csv\", index_col=0\n",
    "    ).sort_values(\"IS_Perfect\")\n",
    "\n",
    "    return trn_bfsm_df, tst_bfsm_df\n",
    "\n",
    "def get_bfmed_dfs():\n",
    "    trn_bfmed_df = pd.read_csv(\n",
    "        \"datasets/tsv/fine-tuning/BFmedium/training.tsv\", sep=\"\\t\",\n",
    "        names=[\"input\", \"target\"]\n",
    "    )\n",
    "    tst_bfmed_df = pd.read_csv(\n",
    "        \"DataSnooping_Analysis_Data/BFmedium.csv\", index_col=0\n",
    "    ).sort_values(\"IS_Perfect\")\n",
    "\n",
    "    return trn_bfmed_df, tst_bfmed_df\n",
    "\n",
    "def get_codesum_dfs():\n",
    "    trn_codesum_df = pd.read_csv(\n",
    "        \"datasets/tsv/fine-tuning/CS/training.tsv\", sep=\"\\t\",\n",
    "        names=[\"input\", \"target\"]\n",
    "    )\n",
    "    tst_codesum_df = pd.read_csv(\n",
    "        \"DataSnooping_Analysis_Data/CodeSummarization.csv\", index_col=0\n",
    "    ).sort_values(\"BLEU\")\n",
    "\n",
    "    return trn_codesum_df, tst_codesum_df\n",
    "\n",
    "def get_muts_dfs():\n",
    "    trn_muts_df = pd.read_csv(\n",
    "        \"datasets/tsv/fine-tuning/MG/training.tsv\", sep=\"\\t\",\n",
    "        names=[\"input\", \"target\"]\n",
    "    )\n",
    "    tst_muts_df = pd.read_csv(\n",
    "        \"DataSnooping_Analysis_Data/Mutants.csv\", index_col=0\n",
    "    ).sort_values(\"BLEU\")\n",
    "\n",
    "    return trn_muts_df, tst_muts_df\n",
    "\n",
    "def sample_bst_wrst(df, pop=1_000, n=100):\n",
    "    bst = df.tail(pop)\n",
    "    wrst = df.head(pop)\n",
    "\n",
    "    return bst.sample(n), wrst.sample(n)"
   ]
  },
  {
   "cell_type": "code",
   "execution_count": null,
   "metadata": {},
   "outputs": [],
   "source": [
    "# This code was taken from https://gist.github.com/kylebgorman/1081951/bce3de986e4b05fc0b63d4d9e0cfa4bde6664365\n",
    "def _dist(A, B, insertion, deletion, substitution):\n",
    "    D = np.zeros((len(A) + 1, len(B) + 1))\n",
    "    for i in range(len(A)):\n",
    "        D[i + 1][0] = D[i][0] + deletion\n",
    "    for j in range(len(B)):\n",
    "        D[0][j + 1] = D[0][j] + insertion\n",
    "    for i in range(len(A)): # fill out middle of matrix\n",
    "        for j in range(len(B)):\n",
    "            if A[i] == B[j]:\n",
    "                D[i + 1][j + 1] = D[i][j] # aka, it's free.\n",
    "            else:\n",
    "                D[i + 1][j + 1] = min(D[i + 1][j] + insertion,\n",
    "                                      D[i][j + 1] + deletion,\n",
    "                                      D[i][j]     + substitution)\n",
    "    return D\n",
    "\n",
    "def levenshtein_distance(l1, l2, normalize=False):\n",
    "    dist = _dist(l1, l2, 1, 1, 1)[-1][-1]\n",
    "    if normalize:\n",
    "        return 1. - dist / max(len(l1), len(l2))\n",
    "    else:\n",
    "        return dist"
   ]
  },
  {
   "cell_type": "code",
   "execution_count": null,
   "metadata": {},
   "outputs": [],
   "source": [
    "def get_dists(trn, tst):\n",
    "    import sentencepiece as spm\n",
    "    s = spm.SentencePieceProcessor(model_file='dl4se_vocab.model')\n",
    "    dists = Parallel(n_jobs=-1)(\n",
    "        delayed(levenshtein_distance)(s.encode(i), s.encode(j))\n",
    "        for i in trn for j in tst\n",
    "    )\n",
    "    \n",
    "    return dists"
   ]
  }
 ],
 "metadata": {
  "interpreter": {
   "hash": "d4d1e4263499bec80672ea0156c357c1ee493ec2b1c70f0acce89fc37c4a6abe"
  },
  "kernelspec": {
   "display_name": "Python 3.8.6 64-bit ('base': conda)",
   "name": "python3"
  },
  "language_info": {
   "codemirror_mode": {
    "name": "ipython",
    "version": 3
   },
   "file_extension": ".py",
   "mimetype": "text/x-python",
   "name": "python",
   "nbconvert_exporter": "python",
   "pygments_lexer": "ipython3",
   "version": "3.8.6"
  }
 },
 "nbformat": 4,
 "nbformat_minor": 5
}
